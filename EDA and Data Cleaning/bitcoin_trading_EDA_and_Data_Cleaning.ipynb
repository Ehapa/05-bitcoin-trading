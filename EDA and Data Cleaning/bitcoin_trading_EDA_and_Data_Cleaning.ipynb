{
 "cells": [
  {
   "cell_type": "markdown",
   "metadata": {
    "_cell_guid": "b1076dfc-b9ad-4769-8c92-a6c4dae69d19",
    "_uuid": "8f2839f25d086af736a60e9eeb907d3b93b6e0e5",
    "papermill": {
     "duration": 0.041214,
     "end_time": "2020-09-30T09:18:37.321064",
     "exception": false,
     "start_time": "2020-09-30T09:18:37.279850",
     "status": "completed"
    },
    "tags": []
   },
   "source": [
    "# Data Cleaning"
   ]
  },
  {
   "cell_type": "markdown",
   "metadata": {
    "papermill": {
     "duration": 0.037372,
     "end_time": "2020-09-30T09:18:37.397186",
     "exception": false,
     "start_time": "2020-09-30T09:18:37.359814",
     "status": "completed"
    },
    "tags": []
   },
   "source": [
    "Importing useful libraries"
   ]
  },
  {
   "cell_type": "code",
   "execution_count": 1,
   "metadata": {
    "_cell_guid": "79c7e3d0-c299-4dcb-8224-4455121ee9b0",
    "_uuid": "d629ff2d2480ee46fbb7e2d37f6b5fab8052498a",
    "execution": {
     "iopub.execute_input": "2020-09-30T09:18:37.482356Z",
     "iopub.status.busy": "2020-09-30T09:18:37.481222Z",
     "iopub.status.idle": "2020-09-30T09:18:37.484705Z",
     "shell.execute_reply": "2020-09-30T09:18:37.483901Z"
    },
    "papermill": {
     "duration": 0.049905,
     "end_time": "2020-09-30T09:18:37.484838",
     "exception": false,
     "start_time": "2020-09-30T09:18:37.434933",
     "status": "completed"
    },
    "tags": []
   },
   "outputs": [],
   "source": [
    "import numpy as np\n",
    "import pandas as pd\n",
    "import matplotlib.pyplot as plt\n",
    "\n",
    "%matplotlib inline"
   ]
  },
  {
   "cell_type": "markdown",
   "metadata": {
    "papermill": {
     "duration": 0.038247,
     "end_time": "2020-09-30T09:18:37.561497",
     "exception": false,
     "start_time": "2020-09-30T09:18:37.523250",
     "status": "completed"
    },
    "tags": []
   },
   "source": [
    "Loading in the data"
   ]
  },
  {
   "cell_type": "code",
   "execution_count": 2,
   "metadata": {
    "execution": {
     "iopub.execute_input": "2020-09-30T09:18:37.647553Z",
     "iopub.status.busy": "2020-09-30T09:18:37.646800Z",
     "iopub.status.idle": "2020-09-30T09:18:42.928589Z",
     "shell.execute_reply": "2020-09-30T09:18:42.929326Z"
    },
    "papermill": {
     "duration": 5.329957,
     "end_time": "2020-09-30T09:18:42.929513",
     "exception": false,
     "start_time": "2020-09-30T09:18:37.599556",
     "status": "completed"
    },
    "tags": []
   },
   "outputs": [
    {
     "name": "stdout",
     "output_type": "stream",
     "text": [
      "(4572257, 8)\n"
     ]
    },
    {
     "data": {
      "text/html": [
       "<div>\n",
       "<style scoped>\n",
       "    .dataframe tbody tr th:only-of-type {\n",
       "        vertical-align: middle;\n",
       "    }\n",
       "\n",
       "    .dataframe tbody tr th {\n",
       "        vertical-align: top;\n",
       "    }\n",
       "\n",
       "    .dataframe thead th {\n",
       "        text-align: right;\n",
       "    }\n",
       "</style>\n",
       "<table border=\"1\" class=\"dataframe\">\n",
       "  <thead>\n",
       "    <tr style=\"text-align: right;\">\n",
       "      <th></th>\n",
       "      <th>Timestamp</th>\n",
       "      <th>Open</th>\n",
       "      <th>High</th>\n",
       "      <th>Low</th>\n",
       "      <th>Close</th>\n",
       "      <th>Volume_(BTC)</th>\n",
       "      <th>Volume_(Currency)</th>\n",
       "      <th>Weighted_Price</th>\n",
       "    </tr>\n",
       "  </thead>\n",
       "  <tbody>\n",
       "    <tr>\n",
       "      <th>0</th>\n",
       "      <td>1325317920</td>\n",
       "      <td>4.39</td>\n",
       "      <td>4.39</td>\n",
       "      <td>4.39</td>\n",
       "      <td>4.39</td>\n",
       "      <td>0.455581</td>\n",
       "      <td>2.0</td>\n",
       "      <td>4.39</td>\n",
       "    </tr>\n",
       "    <tr>\n",
       "      <th>1</th>\n",
       "      <td>1325317980</td>\n",
       "      <td>NaN</td>\n",
       "      <td>NaN</td>\n",
       "      <td>NaN</td>\n",
       "      <td>NaN</td>\n",
       "      <td>NaN</td>\n",
       "      <td>NaN</td>\n",
       "      <td>NaN</td>\n",
       "    </tr>\n",
       "    <tr>\n",
       "      <th>2</th>\n",
       "      <td>1325318040</td>\n",
       "      <td>NaN</td>\n",
       "      <td>NaN</td>\n",
       "      <td>NaN</td>\n",
       "      <td>NaN</td>\n",
       "      <td>NaN</td>\n",
       "      <td>NaN</td>\n",
       "      <td>NaN</td>\n",
       "    </tr>\n",
       "    <tr>\n",
       "      <th>3</th>\n",
       "      <td>1325318100</td>\n",
       "      <td>NaN</td>\n",
       "      <td>NaN</td>\n",
       "      <td>NaN</td>\n",
       "      <td>NaN</td>\n",
       "      <td>NaN</td>\n",
       "      <td>NaN</td>\n",
       "      <td>NaN</td>\n",
       "    </tr>\n",
       "    <tr>\n",
       "      <th>4</th>\n",
       "      <td>1325318160</td>\n",
       "      <td>NaN</td>\n",
       "      <td>NaN</td>\n",
       "      <td>NaN</td>\n",
       "      <td>NaN</td>\n",
       "      <td>NaN</td>\n",
       "      <td>NaN</td>\n",
       "      <td>NaN</td>\n",
       "    </tr>\n",
       "  </tbody>\n",
       "</table>\n",
       "</div>"
      ],
      "text/plain": [
       "    Timestamp  Open  High   Low  Close  Volume_(BTC)  Volume_(Currency)  \\\n",
       "0  1325317920  4.39  4.39  4.39   4.39      0.455581                2.0   \n",
       "1  1325317980   NaN   NaN   NaN    NaN           NaN                NaN   \n",
       "2  1325318040   NaN   NaN   NaN    NaN           NaN                NaN   \n",
       "3  1325318100   NaN   NaN   NaN    NaN           NaN                NaN   \n",
       "4  1325318160   NaN   NaN   NaN    NaN           NaN                NaN   \n",
       "\n",
       "   Weighted_Price  \n",
       "0            4.39  \n",
       "1             NaN  \n",
       "2             NaN  \n",
       "3             NaN  \n",
       "4             NaN  "
      ]
     },
     "execution_count": 2,
     "metadata": {},
     "output_type": "execute_result"
    }
   ],
   "source": [
    "df = pd.read_csv('../input/bitcoin-historical-data/bitstampUSD_1-min_data_2012-01-01_to_2020-09-14.csv')\n",
    "print(df.shape)\n",
    "df.head()"
   ]
  },
  {
   "cell_type": "code",
   "execution_count": 3,
   "metadata": {
    "execution": {
     "iopub.execute_input": "2020-09-30T09:18:43.015877Z",
     "iopub.status.busy": "2020-09-30T09:18:43.015035Z",
     "iopub.status.idle": "2020-09-30T09:18:43.125972Z",
     "shell.execute_reply": "2020-09-30T09:18:43.125359Z"
    },
    "papermill": {
     "duration": 0.156146,
     "end_time": "2020-09-30T09:18:43.126121",
     "exception": false,
     "start_time": "2020-09-30T09:18:42.969975",
     "status": "completed"
    },
    "tags": []
   },
   "outputs": [],
   "source": [
    "bitcoin_df = df.copy() # making a copy of the dataset to work with"
   ]
  },
  {
   "cell_type": "code",
   "execution_count": 4,
   "metadata": {
    "execution": {
     "iopub.execute_input": "2020-09-30T09:18:43.215115Z",
     "iopub.status.busy": "2020-09-30T09:18:43.214356Z",
     "iopub.status.idle": "2020-09-30T09:18:43.442213Z",
     "shell.execute_reply": "2020-09-30T09:18:43.441451Z"
    },
    "papermill": {
     "duration": 0.27671,
     "end_time": "2020-09-30T09:18:43.442341",
     "exception": false,
     "start_time": "2020-09-30T09:18:43.165631",
     "status": "completed"
    },
    "tags": []
   },
   "outputs": [
    {
     "data": {
      "text/html": [
       "<div>\n",
       "<style scoped>\n",
       "    .dataframe tbody tr th:only-of-type {\n",
       "        vertical-align: middle;\n",
       "    }\n",
       "\n",
       "    .dataframe tbody tr th {\n",
       "        vertical-align: top;\n",
       "    }\n",
       "\n",
       "    .dataframe thead th {\n",
       "        text-align: right;\n",
       "    }\n",
       "</style>\n",
       "<table border=\"1\" class=\"dataframe\">\n",
       "  <thead>\n",
       "    <tr style=\"text-align: right;\">\n",
       "      <th></th>\n",
       "      <th>Open</th>\n",
       "      <th>High</th>\n",
       "      <th>Low</th>\n",
       "      <th>Close</th>\n",
       "      <th>Volume_(BTC)</th>\n",
       "      <th>Volume_(Currency)</th>\n",
       "      <th>Weighted_Price</th>\n",
       "    </tr>\n",
       "    <tr>\n",
       "      <th>Timestamp</th>\n",
       "      <th></th>\n",
       "      <th></th>\n",
       "      <th></th>\n",
       "      <th></th>\n",
       "      <th></th>\n",
       "      <th></th>\n",
       "      <th></th>\n",
       "    </tr>\n",
       "  </thead>\n",
       "  <tbody>\n",
       "    <tr>\n",
       "      <th>2011-12-31 07:52:00</th>\n",
       "      <td>4.39</td>\n",
       "      <td>4.39</td>\n",
       "      <td>4.39</td>\n",
       "      <td>4.39</td>\n",
       "      <td>0.455581</td>\n",
       "      <td>2.0</td>\n",
       "      <td>4.39</td>\n",
       "    </tr>\n",
       "    <tr>\n",
       "      <th>2011-12-31 07:53:00</th>\n",
       "      <td>NaN</td>\n",
       "      <td>NaN</td>\n",
       "      <td>NaN</td>\n",
       "      <td>NaN</td>\n",
       "      <td>NaN</td>\n",
       "      <td>NaN</td>\n",
       "      <td>NaN</td>\n",
       "    </tr>\n",
       "    <tr>\n",
       "      <th>2011-12-31 07:54:00</th>\n",
       "      <td>NaN</td>\n",
       "      <td>NaN</td>\n",
       "      <td>NaN</td>\n",
       "      <td>NaN</td>\n",
       "      <td>NaN</td>\n",
       "      <td>NaN</td>\n",
       "      <td>NaN</td>\n",
       "    </tr>\n",
       "    <tr>\n",
       "      <th>2011-12-31 07:55:00</th>\n",
       "      <td>NaN</td>\n",
       "      <td>NaN</td>\n",
       "      <td>NaN</td>\n",
       "      <td>NaN</td>\n",
       "      <td>NaN</td>\n",
       "      <td>NaN</td>\n",
       "      <td>NaN</td>\n",
       "    </tr>\n",
       "    <tr>\n",
       "      <th>2011-12-31 07:56:00</th>\n",
       "      <td>NaN</td>\n",
       "      <td>NaN</td>\n",
       "      <td>NaN</td>\n",
       "      <td>NaN</td>\n",
       "      <td>NaN</td>\n",
       "      <td>NaN</td>\n",
       "      <td>NaN</td>\n",
       "    </tr>\n",
       "  </tbody>\n",
       "</table>\n",
       "</div>"
      ],
      "text/plain": [
       "                     Open  High   Low  Close  Volume_(BTC)  Volume_(Currency)  \\\n",
       "Timestamp                                                                       \n",
       "2011-12-31 07:52:00  4.39  4.39  4.39   4.39      0.455581                2.0   \n",
       "2011-12-31 07:53:00   NaN   NaN   NaN    NaN           NaN                NaN   \n",
       "2011-12-31 07:54:00   NaN   NaN   NaN    NaN           NaN                NaN   \n",
       "2011-12-31 07:55:00   NaN   NaN   NaN    NaN           NaN                NaN   \n",
       "2011-12-31 07:56:00   NaN   NaN   NaN    NaN           NaN                NaN   \n",
       "\n",
       "                     Weighted_Price  \n",
       "Timestamp                            \n",
       "2011-12-31 07:52:00            4.39  \n",
       "2011-12-31 07:53:00             NaN  \n",
       "2011-12-31 07:54:00             NaN  \n",
       "2011-12-31 07:55:00             NaN  \n",
       "2011-12-31 07:56:00             NaN  "
      ]
     },
     "execution_count": 4,
     "metadata": {},
     "output_type": "execute_result"
    }
   ],
   "source": [
    "time_col = pd.to_datetime(bitcoin_df['Timestamp'], unit='s') # converting the 'Timestamp' column to \n",
    "                                                             # datetime object\n",
    "\n",
    "bitcoin_df.drop('Timestamp', axis=1, inplace=True) # drops the 'Timestamp' column\n",
    "bitcoin_df['Timestamp'] = time_col # creates a new 'Timestamp' column with datetime dtype\n",
    "bitcoin_df.set_index('Timestamp', inplace=True) # makes 'Timestamp' the index\n",
    "\n",
    "bitcoin_df.head()"
   ]
  },
  {
   "cell_type": "code",
   "execution_count": 5,
   "metadata": {
    "execution": {
     "iopub.execute_input": "2020-09-30T09:18:43.528931Z",
     "iopub.status.busy": "2020-09-30T09:18:43.528137Z",
     "iopub.status.idle": "2020-09-30T09:18:43.596062Z",
     "shell.execute_reply": "2020-09-30T09:18:43.595331Z"
    },
    "papermill": {
     "duration": 0.113466,
     "end_time": "2020-09-30T09:18:43.596207",
     "exception": false,
     "start_time": "2020-09-30T09:18:43.482741",
     "status": "completed"
    },
    "tags": []
   },
   "outputs": [
    {
     "data": {
      "text/plain": [
       "Open                 1241716\n",
       "High                 1241716\n",
       "Low                  1241716\n",
       "Close                1241716\n",
       "Volume_(BTC)         1241716\n",
       "Volume_(Currency)    1241716\n",
       "Weighted_Price       1241716\n",
       "dtype: int64"
      ]
     },
     "execution_count": 5,
     "metadata": {},
     "output_type": "execute_result"
    }
   ],
   "source": [
    "missing_val_mask = bitcoin_df.isnull() # creating a dataframe with boolean values indicating the presence of \n",
    "                                       # missing value\n",
    "missing_val_mask.sum()"
   ]
  },
  {
   "cell_type": "markdown",
   "metadata": {
    "papermill": {
     "duration": 0.040393,
     "end_time": "2020-09-30T09:18:43.677447",
     "exception": false,
     "start_time": "2020-09-30T09:18:43.637054",
     "status": "completed"
    },
    "tags": []
   },
   "source": [
    "Let's check if all columns have Nan values for each row with any Nan value. "
   ]
  },
  {
   "cell_type": "code",
   "execution_count": 6,
   "metadata": {
    "execution": {
     "iopub.execute_input": "2020-09-30T09:18:43.765548Z",
     "iopub.status.busy": "2020-09-30T09:18:43.764716Z",
     "iopub.status.idle": "2020-09-30T09:18:43.862425Z",
     "shell.execute_reply": "2020-09-30T09:18:43.861699Z"
    },
    "papermill": {
     "duration": 0.144214,
     "end_time": "2020-09-30T09:18:43.862547",
     "exception": false,
     "start_time": "2020-09-30T09:18:43.718333",
     "status": "completed"
    },
    "tags": []
   },
   "outputs": [
    {
     "data": {
      "text/plain": [
       "True"
      ]
     },
     "execution_count": 6,
     "metadata": {},
     "output_type": "execute_result"
    }
   ],
   "source": [
    "missing_val_mask.sum(axis=1).sum() == len(bitcoin_df.columns) * missing_val_mask.sum().loc['Open']"
   ]
  },
  {
   "cell_type": "markdown",
   "metadata": {
    "papermill": {
     "duration": 0.04115,
     "end_time": "2020-09-30T09:18:43.944879",
     "exception": false,
     "start_time": "2020-09-30T09:18:43.903729",
     "status": "completed"
    },
    "tags": []
   },
   "source": [
    "Confirmed!"
   ]
  },
  {
   "cell_type": "code",
   "execution_count": 7,
   "metadata": {
    "execution": {
     "iopub.execute_input": "2020-09-30T09:18:44.036364Z",
     "iopub.status.busy": "2020-09-30T09:18:44.035353Z",
     "iopub.status.idle": "2020-09-30T09:18:44.076066Z",
     "shell.execute_reply": "2020-09-30T09:18:44.075411Z"
    },
    "papermill": {
     "duration": 0.088693,
     "end_time": "2020-09-30T09:18:44.076237",
     "exception": false,
     "start_time": "2020-09-30T09:18:43.987544",
     "status": "completed"
    },
    "tags": []
   },
   "outputs": [
    {
     "name": "stdout",
     "output_type": "stream",
     "text": [
      "There are 1241716 rows with missing values which make up 27.158% of the total number of rows\n"
     ]
    }
   ],
   "source": [
    "n_missing_val = missing_val_mask.sum().loc['Open'] # number of rows with missing values\n",
    "print('There are {} rows with missing values which make up {}% of the total number of rows'.format( \\\n",
    "                                            n_missing_val, round(100*n_missing_val / bitcoin_df.shape[0], 3)))"
   ]
  },
  {
   "cell_type": "code",
   "execution_count": 8,
   "metadata": {
    "execution": {
     "iopub.execute_input": "2020-09-30T09:18:44.167853Z",
     "iopub.status.busy": "2020-09-30T09:18:44.167012Z",
     "iopub.status.idle": "2020-09-30T09:18:44.332008Z",
     "shell.execute_reply": "2020-09-30T09:18:44.332648Z"
    },
    "papermill": {
     "duration": 0.213477,
     "end_time": "2020-09-30T09:18:44.332812",
     "exception": false,
     "start_time": "2020-09-30T09:18:44.119335",
     "status": "completed"
    },
    "tags": []
   },
   "outputs": [],
   "source": [
    "# creating a dataframe that contains only rows with missing values\n",
    "missing_val_df = bitcoin_df[missing_val_mask.sum(axis=1) == 7].copy()\n",
    "\n",
    "# asserting that the number of rows in 'missing_val_df' is same as the number of rows with missing values in 'df'\n",
    "assert missing_val_df.shape[0] == n_missing_val "
   ]
  },
  {
   "cell_type": "code",
   "execution_count": 9,
   "metadata": {
    "execution": {
     "iopub.execute_input": "2020-09-30T09:18:44.423815Z",
     "iopub.status.busy": "2020-09-30T09:18:44.423017Z",
     "iopub.status.idle": "2020-09-30T09:18:53.492670Z",
     "shell.execute_reply": "2020-09-30T09:18:53.491917Z"
    },
    "papermill": {
     "duration": 9.117488,
     "end_time": "2020-09-30T09:18:53.492799",
     "exception": false,
     "start_time": "2020-09-30T09:18:44.375311",
     "status": "completed"
    },
    "tags": []
   },
   "outputs": [
    {
     "data": {
      "text/html": [
       "<div>\n",
       "<style scoped>\n",
       "    .dataframe tbody tr th:only-of-type {\n",
       "        vertical-align: middle;\n",
       "    }\n",
       "\n",
       "    .dataframe tbody tr th {\n",
       "        vertical-align: top;\n",
       "    }\n",
       "\n",
       "    .dataframe thead th {\n",
       "        text-align: right;\n",
       "    }\n",
       "</style>\n",
       "<table border=\"1\" class=\"dataframe\">\n",
       "  <thead>\n",
       "    <tr style=\"text-align: right;\">\n",
       "      <th></th>\n",
       "      <th>Open</th>\n",
       "      <th>High</th>\n",
       "      <th>Low</th>\n",
       "      <th>Close</th>\n",
       "      <th>Volume_(BTC)</th>\n",
       "      <th>Volume_(Currency)</th>\n",
       "      <th>Weighted_Price</th>\n",
       "      <th>date</th>\n",
       "    </tr>\n",
       "    <tr>\n",
       "      <th>Timestamp</th>\n",
       "      <th></th>\n",
       "      <th></th>\n",
       "      <th></th>\n",
       "      <th></th>\n",
       "      <th></th>\n",
       "      <th></th>\n",
       "      <th></th>\n",
       "      <th></th>\n",
       "    </tr>\n",
       "  </thead>\n",
       "  <tbody>\n",
       "    <tr>\n",
       "      <th>2011-12-31 07:53:00</th>\n",
       "      <td>NaN</td>\n",
       "      <td>NaN</td>\n",
       "      <td>NaN</td>\n",
       "      <td>NaN</td>\n",
       "      <td>NaN</td>\n",
       "      <td>NaN</td>\n",
       "      <td>NaN</td>\n",
       "      <td>2011-12-31</td>\n",
       "    </tr>\n",
       "    <tr>\n",
       "      <th>2011-12-31 07:54:00</th>\n",
       "      <td>NaN</td>\n",
       "      <td>NaN</td>\n",
       "      <td>NaN</td>\n",
       "      <td>NaN</td>\n",
       "      <td>NaN</td>\n",
       "      <td>NaN</td>\n",
       "      <td>NaN</td>\n",
       "      <td>2011-12-31</td>\n",
       "    </tr>\n",
       "    <tr>\n",
       "      <th>2011-12-31 07:55:00</th>\n",
       "      <td>NaN</td>\n",
       "      <td>NaN</td>\n",
       "      <td>NaN</td>\n",
       "      <td>NaN</td>\n",
       "      <td>NaN</td>\n",
       "      <td>NaN</td>\n",
       "      <td>NaN</td>\n",
       "      <td>2011-12-31</td>\n",
       "    </tr>\n",
       "    <tr>\n",
       "      <th>2011-12-31 07:56:00</th>\n",
       "      <td>NaN</td>\n",
       "      <td>NaN</td>\n",
       "      <td>NaN</td>\n",
       "      <td>NaN</td>\n",
       "      <td>NaN</td>\n",
       "      <td>NaN</td>\n",
       "      <td>NaN</td>\n",
       "      <td>2011-12-31</td>\n",
       "    </tr>\n",
       "    <tr>\n",
       "      <th>2011-12-31 07:57:00</th>\n",
       "      <td>NaN</td>\n",
       "      <td>NaN</td>\n",
       "      <td>NaN</td>\n",
       "      <td>NaN</td>\n",
       "      <td>NaN</td>\n",
       "      <td>NaN</td>\n",
       "      <td>NaN</td>\n",
       "      <td>2011-12-31</td>\n",
       "    </tr>\n",
       "  </tbody>\n",
       "</table>\n",
       "</div>"
      ],
      "text/plain": [
       "                     Open  High  Low  Close  Volume_(BTC)  Volume_(Currency)  \\\n",
       "Timestamp                                                                      \n",
       "2011-12-31 07:53:00   NaN   NaN  NaN    NaN           NaN                NaN   \n",
       "2011-12-31 07:54:00   NaN   NaN  NaN    NaN           NaN                NaN   \n",
       "2011-12-31 07:55:00   NaN   NaN  NaN    NaN           NaN                NaN   \n",
       "2011-12-31 07:56:00   NaN   NaN  NaN    NaN           NaN                NaN   \n",
       "2011-12-31 07:57:00   NaN   NaN  NaN    NaN           NaN                NaN   \n",
       "\n",
       "                     Weighted_Price        date  \n",
       "Timestamp                                        \n",
       "2011-12-31 07:53:00             NaN  2011-12-31  \n",
       "2011-12-31 07:54:00             NaN  2011-12-31  \n",
       "2011-12-31 07:55:00             NaN  2011-12-31  \n",
       "2011-12-31 07:56:00             NaN  2011-12-31  \n",
       "2011-12-31 07:57:00             NaN  2011-12-31  "
      ]
     },
     "execution_count": 9,
     "metadata": {},
     "output_type": "execute_result"
    }
   ],
   "source": [
    "# creating a 'date' column that contains only the date\n",
    "missing_val_df['date'] = pd.Series(missing_val_df.index).apply(lambda x: x.date()).values\n",
    "missing_val_df.head()"
   ]
  },
  {
   "cell_type": "markdown",
   "metadata": {
    "papermill": {
     "duration": 0.043394,
     "end_time": "2020-09-30T09:18:53.580154",
     "exception": false,
     "start_time": "2020-09-30T09:18:53.536760",
     "status": "completed"
    },
    "tags": []
   },
   "source": [
    "Let's check the duration of Nan values per day in minutes"
   ]
  },
  {
   "cell_type": "code",
   "execution_count": 10,
   "metadata": {
    "execution": {
     "iopub.execute_input": "2020-09-30T09:18:53.964809Z",
     "iopub.status.busy": "2020-09-30T09:18:53.962147Z",
     "iopub.status.idle": "2020-09-30T09:18:54.087737Z",
     "shell.execute_reply": "2020-09-30T09:18:54.086752Z"
    },
    "papermill": {
     "duration": 0.463563,
     "end_time": "2020-09-30T09:18:54.087912",
     "exception": false,
     "start_time": "2020-09-30T09:18:53.624349",
     "status": "completed"
    },
    "tags": []
   },
   "outputs": [],
   "source": [
    "daily_Nan_minute = missing_val_df.groupby('date').apply(lambda x: x.shape[0])"
   ]
  },
  {
   "cell_type": "code",
   "execution_count": 11,
   "metadata": {
    "execution": {
     "iopub.execute_input": "2020-09-30T09:18:54.182983Z",
     "iopub.status.busy": "2020-09-30T09:18:54.182254Z",
     "iopub.status.idle": "2020-09-30T09:18:54.184690Z",
     "shell.execute_reply": "2020-09-30T09:18:54.185356Z"
    },
    "papermill": {
     "duration": 0.05293,
     "end_time": "2020-09-30T09:18:54.185518",
     "exception": false,
     "start_time": "2020-09-30T09:18:54.132588",
     "status": "completed"
    },
    "tags": []
   },
   "outputs": [],
   "source": [
    "assert daily_Nan_minute.sum() == n_missing_val"
   ]
  },
  {
   "cell_type": "code",
   "execution_count": 12,
   "metadata": {
    "execution": {
     "iopub.execute_input": "2020-09-30T09:18:54.283216Z",
     "iopub.status.busy": "2020-09-30T09:18:54.282287Z",
     "iopub.status.idle": "2020-09-30T09:18:54.286666Z",
     "shell.execute_reply": "2020-09-30T09:18:54.285918Z"
    },
    "papermill": {
     "duration": 0.056937,
     "end_time": "2020-09-30T09:18:54.286797",
     "exception": false,
     "start_time": "2020-09-30T09:18:54.229860",
     "status": "completed"
    },
    "tags": []
   },
   "outputs": [
    {
     "name": "stdout",
     "output_type": "stream",
     "text": [
      "a day has 1440 minutes\n",
      "maximum duration of Nan values in minute is 1439mins which is 99.931% of the day\n",
      "minimum duration of Nan values in minute is 1mins which is 0.069% of the day\n"
     ]
    }
   ],
   "source": [
    "print('a day has {} minutes'.format(60*24))\n",
    "print('maximum duration of Nan values in minute is {}mins which is {}% of the day'.format( \\\n",
    "                daily_Nan_minute.max(), round(100*daily_Nan_minute.max() / (60*24), 3)))\n",
    "print('minimum duration of Nan values in minute is {}mins which is {}% of the day'.format( \\\n",
    "                daily_Nan_minute.min(), round(100*daily_Nan_minute.min() / (60*24), 3)))"
   ]
  },
  {
   "cell_type": "code",
   "execution_count": 13,
   "metadata": {
    "execution": {
     "iopub.execute_input": "2020-09-30T09:18:54.392276Z",
     "iopub.status.busy": "2020-09-30T09:18:54.391187Z",
     "iopub.status.idle": "2020-09-30T09:18:54.396267Z",
     "shell.execute_reply": "2020-09-30T09:18:54.395503Z"
    },
    "papermill": {
     "duration": 0.064571,
     "end_time": "2020-09-30T09:18:54.396395",
     "exception": false,
     "start_time": "2020-09-30T09:18:54.331824",
     "status": "completed"
    },
    "tags": []
   },
   "outputs": [
    {
     "data": {
      "text/html": [
       "<div>\n",
       "<style scoped>\n",
       "    .dataframe tbody tr th:only-of-type {\n",
       "        vertical-align: middle;\n",
       "    }\n",
       "\n",
       "    .dataframe tbody tr th {\n",
       "        vertical-align: top;\n",
       "    }\n",
       "\n",
       "    .dataframe thead th {\n",
       "        text-align: right;\n",
       "    }\n",
       "</style>\n",
       "<table border=\"1\" class=\"dataframe\">\n",
       "  <thead>\n",
       "    <tr style=\"text-align: right;\">\n",
       "      <th></th>\n",
       "      <th>Open</th>\n",
       "      <th>High</th>\n",
       "      <th>Low</th>\n",
       "      <th>Close</th>\n",
       "      <th>Volume_(BTC)</th>\n",
       "      <th>Volume_(Currency)</th>\n",
       "      <th>Weighted_Price</th>\n",
       "      <th>date</th>\n",
       "    </tr>\n",
       "    <tr>\n",
       "      <th>Timestamp</th>\n",
       "      <th></th>\n",
       "      <th></th>\n",
       "      <th></th>\n",
       "      <th></th>\n",
       "      <th></th>\n",
       "      <th></th>\n",
       "      <th></th>\n",
       "      <th></th>\n",
       "    </tr>\n",
       "  </thead>\n",
       "  <tbody>\n",
       "    <tr>\n",
       "      <th>2020-09-13 13:35:00</th>\n",
       "      <td>NaN</td>\n",
       "      <td>NaN</td>\n",
       "      <td>NaN</td>\n",
       "      <td>NaN</td>\n",
       "      <td>NaN</td>\n",
       "      <td>NaN</td>\n",
       "      <td>NaN</td>\n",
       "      <td>2020-09-13</td>\n",
       "    </tr>\n",
       "  </tbody>\n",
       "</table>\n",
       "</div>"
      ],
      "text/plain": [
       "                     Open  High  Low  Close  Volume_(BTC)  Volume_(Currency)  \\\n",
       "Timestamp                                                                      \n",
       "2020-09-13 13:35:00   NaN   NaN  NaN    NaN           NaN                NaN   \n",
       "\n",
       "                     Weighted_Price        date  \n",
       "Timestamp                                        \n",
       "2020-09-13 13:35:00             NaN  2020-09-13  "
      ]
     },
     "execution_count": 13,
     "metadata": {},
     "output_type": "execute_result"
    }
   ],
   "source": [
    "missing_val_df.tail(1) # checking the last time with Nan value"
   ]
  },
  {
   "cell_type": "code",
   "execution_count": 14,
   "metadata": {
    "execution": {
     "iopub.execute_input": "2020-09-30T09:18:54.495699Z",
     "iopub.status.busy": "2020-09-30T09:18:54.494707Z",
     "iopub.status.idle": "2020-09-30T09:18:54.498218Z",
     "shell.execute_reply": "2020-09-30T09:18:54.498796Z"
    },
    "papermill": {
     "duration": 0.057069,
     "end_time": "2020-09-30T09:18:54.498948",
     "exception": false,
     "start_time": "2020-09-30T09:18:54.441879",
     "status": "completed"
    },
    "tags": []
   },
   "outputs": [
    {
     "name": "stdout",
     "output_type": "stream",
     "text": [
      "1st quartile of timestamp with Nan value is 2012-08-08 22:52:00\n",
      "median of timestamp with Nan value is 2013-05-18 14:39:00\n",
      "3rd quartile of timestamp with Nan value is 2015-08-23 20:01:00\n"
     ]
    }
   ],
   "source": [
    "print('1st quartile of timestamp with Nan value is {}'.format(missing_val_df.index[len(missing_val_df)//4]))\n",
    "print('median of timestamp with Nan value is {}'.format(missing_val_df.index[len(missing_val_df)//2]))\n",
    "print('3rd quartile of timestamp with Nan value is {}'.format(missing_val_df.index[3*(len(missing_val_df)//4)]))"
   ]
  },
  {
   "cell_type": "code",
   "execution_count": 15,
   "metadata": {
    "execution": {
     "iopub.execute_input": "2020-09-30T09:18:54.597412Z",
     "iopub.status.busy": "2020-09-30T09:18:54.596553Z",
     "iopub.status.idle": "2020-09-30T09:18:54.910335Z",
     "shell.execute_reply": "2020-09-30T09:18:54.910907Z"
    },
    "papermill": {
     "duration": 0.365772,
     "end_time": "2020-09-30T09:18:54.911057",
     "exception": false,
     "start_time": "2020-09-30T09:18:54.545285",
     "status": "completed"
    },
    "tags": []
   },
   "outputs": [
    {
     "data": {
      "image/png": "[encoded data removed]",
      "text/plain": [
       "<Figure size 432x288 with 1 Axes>"
      ]
     },
     "metadata": {
      "needs_background": "light"
     },
     "output_type": "display_data"
    }
   ],
   "source": [
    "hist = plt.hist(missing_val_df.index) # checking the distribution of the Nan values"
   ]
  },
  {
   "cell_type": "markdown",
   "metadata": {
    "papermill": {
     "duration": 0.04756,
     "end_time": "2020-09-30T09:18:55.005618",
     "exception": false,
     "start_time": "2020-09-30T09:18:54.958058",
     "status": "completed"
    },
    "tags": []
   },
   "source": [
    "So we see that the Nan values are skewed to the left. Nan values are heavily present in past years than earlier years."
   ]
  },
  {
   "cell_type": "markdown",
   "metadata": {
    "papermill": {
     "duration": 0.048849,
     "end_time": "2020-09-30T09:18:55.101730",
     "exception": false,
     "start_time": "2020-09-30T09:18:55.052881",
     "status": "completed"
    },
    "tags": []
   },
   "source": [
    "### Let's see the reason for the missing values as stated by Zielak the provider of the dataset so we know how to handle them.\n",
    "\n",
    "> *CSV files for select bitcoin exchanges for the time period of Jan 2012 to September 2020, with minute to minute updates of OHLC (Open, High, Low, Close), Volume in BTC and indicated currency, and weighted bitcoin price. Timestamps are in Unix time. **TIMESTAMPS WITHOUT ANY TRADES OR ACTIVITY HAVE THEIR DATA FIELDS FILLED WITH NANS**...*"
   ]
  },
  {
   "cell_type": "markdown",
   "metadata": {
    "papermill": {
     "duration": 0.04696,
     "end_time": "2020-09-30T09:18:55.196968",
     "exception": false,
     "start_time": "2020-09-30T09:18:55.150008",
     "status": "completed"
    },
    "tags": []
   },
   "source": [
    "### Zielak also told us about jumps in timestamps and here is the reason:\n",
    "> ***...IF A TIMESTAMP IS MISSING, OR IF THERE ARE JUMPS, THIS MAY BE BECAUSE THE EXCHANGE (OR ITS API) WAS DOWN, THE EXCHANGE (OR ITS API) DID NOT EXIST, OR SOME OTHER UNFORESEEN TECHNICAL ERROR IN THE DATA REPORTING OR GATHERING***. *All effort has been made to deduplicate entries and verify the contents are correct and complete to the best of my ability, but obviously trust at your own risk.*"
   ]
  },
  {
   "cell_type": "markdown",
   "metadata": {
    "papermill": {
     "duration": 0.047326,
     "end_time": "2020-09-30T09:18:55.291462",
     "exception": false,
     "start_time": "2020-09-30T09:18:55.244136",
     "status": "completed"
    },
    "tags": []
   },
   "source": [
    "So, let;s check for time jumps and contraction. Jump if any of the sampling rate is greater than a minute and contraction if it is less than a minute."
   ]
  },
  {
   "cell_type": "code",
   "execution_count": 16,
   "metadata": {
    "execution": {
     "iopub.execute_input": "2020-09-30T09:18:55.393376Z",
     "iopub.status.busy": "2020-09-30T09:18:55.392574Z",
     "iopub.status.idle": "2020-09-30T09:20:04.278262Z",
     "shell.execute_reply": "2020-09-30T09:20:04.278971Z"
    },
    "papermill": {
     "duration": 68.939957,
     "end_time": "2020-09-30T09:20:04.279166",
     "exception": false,
     "start_time": "2020-09-30T09:18:55.339209",
     "status": "completed"
    },
    "tags": []
   },
   "outputs": [
    {
     "data": {
      "text/plain": [
       "Timestamp\n",
       "2011-12-31 07:53:00    60.0\n",
       "2011-12-31 07:54:00    60.0\n",
       "2011-12-31 07:55:00    60.0\n",
       "2011-12-31 07:56:00    60.0\n",
       "2011-12-31 07:57:00    60.0\n",
       "Name: time_col, dtype: float64"
      ]
     },
     "execution_count": 16,
     "metadata": {},
     "output_type": "execute_result"
    }
   ],
   "source": [
    "bitcoin_df['time_col'] = bitcoin_df.index\n",
    "# takeing the first order difference to get the duration of Nan values\n",
    "\n",
    "time_jump = (bitcoin_df['time_col'] - bitcoin_df['time_col'].shift()).dropna() \n",
    "delta_time = time_jump.apply(lambda x: x.total_seconds()) # converts the duration to seconds\n",
    "\n",
    "delta_time.head()"
   ]
  },
  {
   "cell_type": "code",
   "execution_count": 17,
   "metadata": {
    "execution": {
     "iopub.execute_input": "2020-09-30T09:20:04.379741Z",
     "iopub.status.busy": "2020-09-30T09:20:04.378926Z",
     "iopub.status.idle": "2020-09-30T09:20:04.382442Z",
     "shell.execute_reply": "2020-09-30T09:20:04.381665Z"
    },
    "papermill": {
     "duration": 0.055893,
     "end_time": "2020-09-30T09:20:04.382571",
     "exception": false,
     "start_time": "2020-09-30T09:20:04.326678",
     "status": "completed"
    },
    "tags": []
   },
   "outputs": [],
   "source": [
    "assert delta_time.shape[0] + 1 == bitcoin_df.shape[0] # confirming the number of rows"
   ]
  },
  {
   "cell_type": "code",
   "execution_count": 18,
   "metadata": {
    "execution": {
     "iopub.execute_input": "2020-09-30T09:20:04.488710Z",
     "iopub.status.busy": "2020-09-30T09:20:04.487978Z",
     "iopub.status.idle": "2020-09-30T09:20:04.508698Z",
     "shell.execute_reply": "2020-09-30T09:20:04.508084Z"
    },
    "papermill": {
     "duration": 0.078304,
     "end_time": "2020-09-30T09:20:04.508824",
     "exception": false,
     "start_time": "2020-09-30T09:20:04.430520",
     "status": "completed"
    },
    "tags": []
   },
   "outputs": [
    {
     "name": "stdout",
     "output_type": "stream",
     "text": [
      "There is 1 time jump\n",
      "There is 0 time contraction\n"
     ]
    }
   ],
   "source": [
    "print('There is {} time jump'.format((delta_time > 60).sum()))\n",
    "print('There is {} time contraction'.format((delta_time < 60).sum()))"
   ]
  },
  {
   "cell_type": "markdown",
   "metadata": {
    "papermill": {
     "duration": 0.0475,
     "end_time": "2020-09-30T09:20:04.604056",
     "exception": false,
     "start_time": "2020-09-30T09:20:04.556556",
     "status": "completed"
    },
    "tags": []
   },
   "source": [
    "So there is no time contraction, let's now find where exactly the time jump is."
   ]
  },
  {
   "cell_type": "code",
   "execution_count": 19,
   "metadata": {
    "execution": {
     "iopub.execute_input": "2020-09-30T09:20:04.709775Z",
     "iopub.status.busy": "2020-09-30T09:20:04.708967Z",
     "iopub.status.idle": "2020-09-30T09:20:04.720936Z",
     "shell.execute_reply": "2020-09-30T09:20:04.720169Z"
    },
    "papermill": {
     "duration": 0.069674,
     "end_time": "2020-09-30T09:20:04.721059",
     "exception": false,
     "start_time": "2020-09-30T09:20:04.651385",
     "status": "completed"
    },
    "tags": []
   },
   "outputs": [
    {
     "name": "stdout",
     "output_type": "stream",
     "text": [
      "time jump duration is 4.495 days\n"
     ]
    }
   ],
   "source": [
    "jump_duration = delta_time[delta_time > 60].values[0]\n",
    "print('time jump duration is {} days'.format(round(jump_duration/(3600*24), 3)))"
   ]
  },
  {
   "cell_type": "code",
   "execution_count": 20,
   "metadata": {
    "execution": {
     "iopub.execute_input": "2020-09-30T09:20:04.829418Z",
     "iopub.status.busy": "2020-09-30T09:20:04.828437Z",
     "iopub.status.idle": "2020-09-30T09:20:04.871138Z",
     "shell.execute_reply": "2020-09-30T09:20:04.870249Z"
    },
    "papermill": {
     "duration": 0.101376,
     "end_time": "2020-09-30T09:20:04.871324",
     "exception": false,
     "start_time": "2020-09-30T09:20:04.769948",
     "status": "completed"
    },
    "tags": []
   },
   "outputs": [
    {
     "data": {
      "text/html": [
       "<div>\n",
       "<style scoped>\n",
       "    .dataframe tbody tr th:only-of-type {\n",
       "        vertical-align: middle;\n",
       "    }\n",
       "\n",
       "    .dataframe tbody tr th {\n",
       "        vertical-align: top;\n",
       "    }\n",
       "\n",
       "    .dataframe thead th {\n",
       "        text-align: right;\n",
       "    }\n",
       "</style>\n",
       "<table border=\"1\" class=\"dataframe\">\n",
       "  <thead>\n",
       "    <tr style=\"text-align: right;\">\n",
       "      <th></th>\n",
       "      <th>Open</th>\n",
       "      <th>High</th>\n",
       "      <th>Low</th>\n",
       "      <th>Close</th>\n",
       "      <th>Volume_(BTC)</th>\n",
       "      <th>Volume_(Currency)</th>\n",
       "      <th>Weighted_Price</th>\n",
       "      <th>time_col</th>\n",
       "    </tr>\n",
       "    <tr>\n",
       "      <th>Timestamp</th>\n",
       "      <th></th>\n",
       "      <th></th>\n",
       "      <th></th>\n",
       "      <th></th>\n",
       "      <th></th>\n",
       "      <th></th>\n",
       "      <th></th>\n",
       "      <th></th>\n",
       "    </tr>\n",
       "  </thead>\n",
       "  <tbody>\n",
       "    <tr>\n",
       "      <th>2015-01-05 09:12:00</th>\n",
       "      <td>276.80</td>\n",
       "      <td>276.8</td>\n",
       "      <td>276.80</td>\n",
       "      <td>276.8</td>\n",
       "      <td>0.100000</td>\n",
       "      <td>27.680000</td>\n",
       "      <td>276.800000</td>\n",
       "      <td>2015-01-05 09:12:00</td>\n",
       "    </tr>\n",
       "    <tr>\n",
       "      <th>2015-01-09 21:05:00</th>\n",
       "      <td>272.45</td>\n",
       "      <td>305.0</td>\n",
       "      <td>272.45</td>\n",
       "      <td>291.1</td>\n",
       "      <td>175.837078</td>\n",
       "      <td>50502.066285</td>\n",
       "      <td>287.209426</td>\n",
       "      <td>2015-01-09 21:05:00</td>\n",
       "    </tr>\n",
       "  </tbody>\n",
       "</table>\n",
       "</div>"
      ],
      "text/plain": [
       "                       Open   High     Low  Close  Volume_(BTC)  \\\n",
       "Timestamp                                                         \n",
       "2015-01-05 09:12:00  276.80  276.8  276.80  276.8      0.100000   \n",
       "2015-01-09 21:05:00  272.45  305.0  272.45  291.1    175.837078   \n",
       "\n",
       "                     Volume_(Currency)  Weighted_Price            time_col  \n",
       "Timestamp                                                                   \n",
       "2015-01-05 09:12:00          27.680000      276.800000 2015-01-05 09:12:00  \n",
       "2015-01-09 21:05:00       50502.066285      287.209426 2015-01-09 21:05:00  "
      ]
     },
     "execution_count": 20,
     "metadata": {},
     "output_type": "execute_result"
    }
   ],
   "source": [
    "ind_of_time_jump = delta_time.index.get_loc(delta_time[delta_time > 60].index[0])\n",
    "bitcoin_df.iloc[ind_of_time_jump: ind_of_time_jump+2]"
   ]
  },
  {
   "cell_type": "code",
   "execution_count": 21,
   "metadata": {
    "execution": {
     "iopub.execute_input": "2020-09-30T09:20:04.982784Z",
     "iopub.status.busy": "2020-09-30T09:20:04.981727Z",
     "iopub.status.idle": "2020-09-30T09:20:04.986605Z",
     "shell.execute_reply": "2020-09-30T09:20:04.985960Z"
    },
    "papermill": {
     "duration": 0.060944,
     "end_time": "2020-09-30T09:20:04.986727",
     "exception": false,
     "start_time": "2020-09-30T09:20:04.925783",
     "status": "completed"
    },
    "tags": []
   },
   "outputs": [
    {
     "data": {
      "text/plain": [
       "5790"
      ]
     },
     "execution_count": 21,
     "metadata": {},
     "output_type": "execute_result"
    }
   ],
   "source": [
    "24*60*4 + 30"
   ]
  },
  {
   "cell_type": "markdown",
   "metadata": {
    "papermill": {
     "duration": 0.04915,
     "end_time": "2020-09-30T09:20:05.085518",
     "exception": false,
     "start_time": "2020-09-30T09:20:05.036368",
     "status": "completed"
    },
    "tags": []
   },
   "source": [
    "Although, there are more than one reasons for jumps in 'Timestamps' as stated by Zielak, one of worth noting is that \"it may be the exchange or its API was down or didn't exist. A jump of approximately 4.5 days was observed which is 5,790mins (5,790 jumps). This jump is huge and we can conclude that it may not be due to error in data gathering rather, it may be due to a downtime in API or exchanges that don't exist. This is a strong reasoning and we will decide to **NOT** impute the jumps in time because we may be too biased if we impute such a great jump.\n",
    "\n",
    "Resampling and smoothing before feeding the dataset to a model would cater for the effect of the jumps."
   ]
  },
  {
   "cell_type": "markdown",
   "metadata": {
    "papermill": {
     "duration": 0.049899,
     "end_time": "2020-09-30T09:20:05.185287",
     "exception": false,
     "start_time": "2020-09-30T09:20:05.135388",
     "status": "completed"
    },
    "tags": []
   },
   "source": [
    "Let's check if there is any duplicate in 'Timestamp' values"
   ]
  },
  {
   "cell_type": "code",
   "execution_count": 22,
   "metadata": {
    "execution": {
     "iopub.execute_input": "2020-09-30T09:20:05.290678Z",
     "iopub.status.busy": "2020-09-30T09:20:05.289891Z",
     "iopub.status.idle": "2020-09-30T09:20:06.000277Z",
     "shell.execute_reply": "2020-09-30T09:20:06.000814Z"
    },
    "papermill": {
     "duration": 0.765963,
     "end_time": "2020-09-30T09:20:06.000980",
     "exception": false,
     "start_time": "2020-09-30T09:20:05.235017",
     "status": "completed"
    },
    "tags": []
   },
   "outputs": [
    {
     "data": {
      "text/plain": [
       "True"
      ]
     },
     "execution_count": 22,
     "metadata": {},
     "output_type": "execute_result"
    }
   ],
   "source": [
    "len(bitcoin_df['time_col'].unique()) == bitcoin_df.shape[0]"
   ]
  },
  {
   "cell_type": "markdown",
   "metadata": {
    "papermill": {
     "duration": 0.051577,
     "end_time": "2020-09-30T09:20:06.103322",
     "exception": false,
     "start_time": "2020-09-30T09:20:06.051745",
     "status": "completed"
    },
    "tags": []
   },
   "source": [
    "So, we conclude that there are no duplicates in 'Timestamp' values!"
   ]
  },
  {
   "cell_type": "markdown",
   "metadata": {
    "papermill": {
     "duration": 0.049932,
     "end_time": "2020-09-30T09:20:06.203877",
     "exception": false,
     "start_time": "2020-09-30T09:20:06.153945",
     "status": "completed"
    },
    "tags": []
   },
   "source": [
    "Let's check the total span of the dataset."
   ]
  },
  {
   "cell_type": "code",
   "execution_count": 23,
   "metadata": {
    "execution": {
     "iopub.execute_input": "2020-09-30T09:20:06.316668Z",
     "iopub.status.busy": "2020-09-30T09:20:06.315692Z",
     "iopub.status.idle": "2020-09-30T09:20:06.320220Z",
     "shell.execute_reply": "2020-09-30T09:20:06.319231Z"
    },
    "papermill": {
     "duration": 0.062426,
     "end_time": "2020-09-30T09:20:06.320362",
     "exception": false,
     "start_time": "2020-09-30T09:20:06.257936",
     "status": "completed"
    },
    "tags": []
   },
   "outputs": [
    {
     "name": "stdout",
     "output_type": "stream",
     "text": [
      "the dataset spans for 3179 days 16:08:00\n"
     ]
    }
   ],
   "source": [
    "print('the dataset spans for {}'.format(bitcoin_df.index[-1] - bitcoin_df.index[0]))"
   ]
  },
  {
   "cell_type": "markdown",
   "metadata": {
    "papermill": {
     "duration": 0.050275,
     "end_time": "2020-09-30T09:20:06.422222",
     "exception": false,
     "start_time": "2020-09-30T09:20:06.371947",
     "status": "completed"
    },
    "tags": []
   },
   "source": [
    "Let's now go back to the Nan values. this time, we will be handling them. since the cause of missingness is \"No trading activity\", it will be biased to use imputation methods like EMA or filling with a particular value since there was no trading activity in real sense.\n",
    "\n",
    "There are two best ways to handle missing values of this nature:\n",
    "1. By filling 'Volume_(BTC)', 'Volume_(Currency)', and 'Weighted_Price' columns with zeros since there was no trading activity. Then, we do forward fill for 'Close' column and fill 'Open', 'High', and 'Low' columns with the values of the 'Close' column to make it a constant (horizontal) line of that peroid of inactivity.\n",
    "2. Dropping the rows with Nan values because in actual sense, there was no trade for those periods.\n",
    "\n",
    "WE WILL USE EACH OF THE APPROACHES TO BUILD OUR MODEL AND SELECT THE ONE WITH BEST PERFORMANCE!"
   ]
  },
  {
   "cell_type": "markdown",
   "metadata": {
    "papermill": {
     "duration": 0.050277,
     "end_time": "2020-09-30T09:20:06.523321",
     "exception": false,
     "start_time": "2020-09-30T09:20:06.473044",
     "status": "completed"
    },
    "tags": []
   },
   "source": [
    "### Approach 1: Imputation"
   ]
  },
  {
   "cell_type": "code",
   "execution_count": 24,
   "metadata": {
    "execution": {
     "iopub.execute_input": "2020-09-30T09:20:06.632660Z",
     "iopub.status.busy": "2020-09-30T09:20:06.631866Z",
     "iopub.status.idle": "2020-09-30T09:20:06.963991Z",
     "shell.execute_reply": "2020-09-30T09:20:06.963264Z"
    },
    "papermill": {
     "duration": 0.390003,
     "end_time": "2020-09-30T09:20:06.964131",
     "exception": false,
     "start_time": "2020-09-30T09:20:06.574128",
     "status": "completed"
    },
    "tags": []
   },
   "outputs": [
    {
     "data": {
      "text/html": [
       "<div>\n",
       "<style scoped>\n",
       "    .dataframe tbody tr th:only-of-type {\n",
       "        vertical-align: middle;\n",
       "    }\n",
       "\n",
       "    .dataframe tbody tr th {\n",
       "        vertical-align: top;\n",
       "    }\n",
       "\n",
       "    .dataframe thead th {\n",
       "        text-align: right;\n",
       "    }\n",
       "</style>\n",
       "<table border=\"1\" class=\"dataframe\">\n",
       "  <thead>\n",
       "    <tr style=\"text-align: right;\">\n",
       "      <th></th>\n",
       "      <th>Open</th>\n",
       "      <th>High</th>\n",
       "      <th>Low</th>\n",
       "      <th>Close</th>\n",
       "      <th>Volume_(BTC)</th>\n",
       "      <th>Volume_(Currency)</th>\n",
       "      <th>Weighted_Price</th>\n",
       "      <th>time_col</th>\n",
       "    </tr>\n",
       "    <tr>\n",
       "      <th>Timestamp</th>\n",
       "      <th></th>\n",
       "      <th></th>\n",
       "      <th></th>\n",
       "      <th></th>\n",
       "      <th></th>\n",
       "      <th></th>\n",
       "      <th></th>\n",
       "      <th></th>\n",
       "    </tr>\n",
       "  </thead>\n",
       "  <tbody>\n",
       "    <tr>\n",
       "      <th>2011-12-31 07:52:00</th>\n",
       "      <td>4.39</td>\n",
       "      <td>4.39</td>\n",
       "      <td>4.39</td>\n",
       "      <td>4.39</td>\n",
       "      <td>0.455581</td>\n",
       "      <td>2.0</td>\n",
       "      <td>4.39</td>\n",
       "      <td>2011-12-31 07:52:00</td>\n",
       "    </tr>\n",
       "    <tr>\n",
       "      <th>2011-12-31 07:53:00</th>\n",
       "      <td>NaN</td>\n",
       "      <td>NaN</td>\n",
       "      <td>NaN</td>\n",
       "      <td>4.39</td>\n",
       "      <td>0.000000</td>\n",
       "      <td>0.0</td>\n",
       "      <td>0.00</td>\n",
       "      <td>2011-12-31 07:53:00</td>\n",
       "    </tr>\n",
       "    <tr>\n",
       "      <th>2011-12-31 07:54:00</th>\n",
       "      <td>NaN</td>\n",
       "      <td>NaN</td>\n",
       "      <td>NaN</td>\n",
       "      <td>4.39</td>\n",
       "      <td>0.000000</td>\n",
       "      <td>0.0</td>\n",
       "      <td>0.00</td>\n",
       "      <td>2011-12-31 07:54:00</td>\n",
       "    </tr>\n",
       "    <tr>\n",
       "      <th>2011-12-31 07:55:00</th>\n",
       "      <td>NaN</td>\n",
       "      <td>NaN</td>\n",
       "      <td>NaN</td>\n",
       "      <td>4.39</td>\n",
       "      <td>0.000000</td>\n",
       "      <td>0.0</td>\n",
       "      <td>0.00</td>\n",
       "      <td>2011-12-31 07:55:00</td>\n",
       "    </tr>\n",
       "    <tr>\n",
       "      <th>2011-12-31 07:56:00</th>\n",
       "      <td>NaN</td>\n",
       "      <td>NaN</td>\n",
       "      <td>NaN</td>\n",
       "      <td>4.39</td>\n",
       "      <td>0.000000</td>\n",
       "      <td>0.0</td>\n",
       "      <td>0.00</td>\n",
       "      <td>2011-12-31 07:56:00</td>\n",
       "    </tr>\n",
       "  </tbody>\n",
       "</table>\n",
       "</div>"
      ],
      "text/plain": [
       "                     Open  High   Low  Close  Volume_(BTC)  Volume_(Currency)  \\\n",
       "Timestamp                                                                       \n",
       "2011-12-31 07:52:00  4.39  4.39  4.39   4.39      0.455581                2.0   \n",
       "2011-12-31 07:53:00   NaN   NaN   NaN   4.39      0.000000                0.0   \n",
       "2011-12-31 07:54:00   NaN   NaN   NaN   4.39      0.000000                0.0   \n",
       "2011-12-31 07:55:00   NaN   NaN   NaN   4.39      0.000000                0.0   \n",
       "2011-12-31 07:56:00   NaN   NaN   NaN   4.39      0.000000                0.0   \n",
       "\n",
       "                     Weighted_Price            time_col  \n",
       "Timestamp                                                \n",
       "2011-12-31 07:52:00            4.39 2011-12-31 07:52:00  \n",
       "2011-12-31 07:53:00            0.00 2011-12-31 07:53:00  \n",
       "2011-12-31 07:54:00            0.00 2011-12-31 07:54:00  \n",
       "2011-12-31 07:55:00            0.00 2011-12-31 07:55:00  \n",
       "2011-12-31 07:56:00            0.00 2011-12-31 07:56:00  "
      ]
     },
     "execution_count": 24,
     "metadata": {},
     "output_type": "execute_result"
    }
   ],
   "source": [
    "bitcoin_df_imputation1 = bitcoin_df.copy() # makes a copy of 'bitcoin_df'. \n",
    "# 'bitcoin_df_imputation1' signifies our first approach of imputing\n",
    "\n",
    "bitcoin_df_imputation1['Close'].fillna(method='ffill', inplace=True) # forward fill for the 'Close' column\n",
    "\n",
    "# imputing 'Volume_(BTC)', 'Volume_(Currency)', and 'Weighted_Price' with zeros\n",
    "bitcoin_df_imputation1[['Volume_(BTC)', 'Volume_(Currency)', 'Weighted_Price']] = \\\n",
    "bitcoin_df_imputation1[['Volume_(BTC)', 'Volume_(Currency)', 'Weighted_Price']].fillna(0)\n",
    "bitcoin_df_imputation1.head()"
   ]
  },
  {
   "cell_type": "code",
   "execution_count": 25,
   "metadata": {
    "execution": {
     "iopub.execute_input": "2020-09-30T09:20:07.076846Z",
     "iopub.status.busy": "2020-09-30T09:20:07.075083Z",
     "iopub.status.idle": "2020-09-30T09:20:07.122174Z",
     "shell.execute_reply": "2020-09-30T09:20:07.121373Z"
    },
    "papermill": {
     "duration": 0.106159,
     "end_time": "2020-09-30T09:20:07.122306",
     "exception": false,
     "start_time": "2020-09-30T09:20:07.016147",
     "status": "completed"
    },
    "tags": []
   },
   "outputs": [
    {
     "data": {
      "text/html": [
       "<div>\n",
       "<style scoped>\n",
       "    .dataframe tbody tr th:only-of-type {\n",
       "        vertical-align: middle;\n",
       "    }\n",
       "\n",
       "    .dataframe tbody tr th {\n",
       "        vertical-align: top;\n",
       "    }\n",
       "\n",
       "    .dataframe thead th {\n",
       "        text-align: right;\n",
       "    }\n",
       "</style>\n",
       "<table border=\"1\" class=\"dataframe\">\n",
       "  <thead>\n",
       "    <tr style=\"text-align: right;\">\n",
       "      <th></th>\n",
       "      <th>Open</th>\n",
       "      <th>High</th>\n",
       "      <th>Low</th>\n",
       "    </tr>\n",
       "    <tr>\n",
       "      <th>Timestamp</th>\n",
       "      <th></th>\n",
       "      <th></th>\n",
       "      <th></th>\n",
       "    </tr>\n",
       "  </thead>\n",
       "  <tbody>\n",
       "    <tr>\n",
       "      <th>2011-12-31 07:52:00</th>\n",
       "      <td>4.39</td>\n",
       "      <td>4.39</td>\n",
       "      <td>4.39</td>\n",
       "    </tr>\n",
       "    <tr>\n",
       "      <th>2011-12-31 07:53:00</th>\n",
       "      <td>4.39</td>\n",
       "      <td>4.39</td>\n",
       "      <td>4.39</td>\n",
       "    </tr>\n",
       "    <tr>\n",
       "      <th>2011-12-31 07:54:00</th>\n",
       "      <td>4.39</td>\n",
       "      <td>4.39</td>\n",
       "      <td>4.39</td>\n",
       "    </tr>\n",
       "    <tr>\n",
       "      <th>2011-12-31 07:55:00</th>\n",
       "      <td>4.39</td>\n",
       "      <td>4.39</td>\n",
       "      <td>4.39</td>\n",
       "    </tr>\n",
       "    <tr>\n",
       "      <th>2011-12-31 07:56:00</th>\n",
       "      <td>4.39</td>\n",
       "      <td>4.39</td>\n",
       "      <td>4.39</td>\n",
       "    </tr>\n",
       "  </tbody>\n",
       "</table>\n",
       "</div>"
      ],
      "text/plain": [
       "                     Open  High   Low\n",
       "Timestamp                            \n",
       "2011-12-31 07:52:00  4.39  4.39  4.39\n",
       "2011-12-31 07:53:00  4.39  4.39  4.39\n",
       "2011-12-31 07:54:00  4.39  4.39  4.39\n",
       "2011-12-31 07:55:00  4.39  4.39  4.39\n",
       "2011-12-31 07:56:00  4.39  4.39  4.39"
      ]
     },
     "execution_count": 25,
     "metadata": {},
     "output_type": "execute_result"
    }
   ],
   "source": [
    "# copying the values of 'Close' column to three columns of 'Open', 'High', and 'Low' that would later \n",
    "#be used for imputation.\n",
    "impute1_df = pd.DataFrame({'Open': bitcoin_df_imputation1['Close'], 'High': bitcoin_df_imputation1['Close'], \\\n",
    "                          'Low': bitcoin_df_imputation1['Close']})\n",
    "impute1_df.head()"
   ]
  },
  {
   "cell_type": "code",
   "execution_count": 26,
   "metadata": {
    "execution": {
     "iopub.execute_input": "2020-09-30T09:20:07.274116Z",
     "iopub.status.busy": "2020-09-30T09:20:07.273301Z",
     "iopub.status.idle": "2020-09-30T09:20:07.596449Z",
     "shell.execute_reply": "2020-09-30T09:20:07.596985Z"
    },
    "papermill": {
     "duration": 0.421814,
     "end_time": "2020-09-30T09:20:07.597168",
     "exception": false,
     "start_time": "2020-09-30T09:20:07.175354",
     "status": "completed"
    },
    "tags": []
   },
   "outputs": [
    {
     "data": {
      "text/html": [
       "<div>\n",
       "<style scoped>\n",
       "    .dataframe tbody tr th:only-of-type {\n",
       "        vertical-align: middle;\n",
       "    }\n",
       "\n",
       "    .dataframe tbody tr th {\n",
       "        vertical-align: top;\n",
       "    }\n",
       "\n",
       "    .dataframe thead th {\n",
       "        text-align: right;\n",
       "    }\n",
       "</style>\n",
       "<table border=\"1\" class=\"dataframe\">\n",
       "  <thead>\n",
       "    <tr style=\"text-align: right;\">\n",
       "      <th></th>\n",
       "      <th>Open</th>\n",
       "      <th>High</th>\n",
       "      <th>Low</th>\n",
       "      <th>Close</th>\n",
       "      <th>Volume_(BTC)</th>\n",
       "      <th>Volume_(Currency)</th>\n",
       "      <th>Weighted_Price</th>\n",
       "      <th>time_col</th>\n",
       "    </tr>\n",
       "    <tr>\n",
       "      <th>Timestamp</th>\n",
       "      <th></th>\n",
       "      <th></th>\n",
       "      <th></th>\n",
       "      <th></th>\n",
       "      <th></th>\n",
       "      <th></th>\n",
       "      <th></th>\n",
       "      <th></th>\n",
       "    </tr>\n",
       "  </thead>\n",
       "  <tbody>\n",
       "    <tr>\n",
       "      <th>2011-12-31 07:52:00</th>\n",
       "      <td>4.39</td>\n",
       "      <td>4.39</td>\n",
       "      <td>4.39</td>\n",
       "      <td>4.39</td>\n",
       "      <td>0.455581</td>\n",
       "      <td>2.0</td>\n",
       "      <td>4.39</td>\n",
       "      <td>2011-12-31 07:52:00</td>\n",
       "    </tr>\n",
       "    <tr>\n",
       "      <th>2011-12-31 07:53:00</th>\n",
       "      <td>4.39</td>\n",
       "      <td>4.39</td>\n",
       "      <td>4.39</td>\n",
       "      <td>4.39</td>\n",
       "      <td>0.000000</td>\n",
       "      <td>0.0</td>\n",
       "      <td>0.00</td>\n",
       "      <td>2011-12-31 07:53:00</td>\n",
       "    </tr>\n",
       "    <tr>\n",
       "      <th>2011-12-31 07:54:00</th>\n",
       "      <td>4.39</td>\n",
       "      <td>4.39</td>\n",
       "      <td>4.39</td>\n",
       "      <td>4.39</td>\n",
       "      <td>0.000000</td>\n",
       "      <td>0.0</td>\n",
       "      <td>0.00</td>\n",
       "      <td>2011-12-31 07:54:00</td>\n",
       "    </tr>\n",
       "    <tr>\n",
       "      <th>2011-12-31 07:55:00</th>\n",
       "      <td>4.39</td>\n",
       "      <td>4.39</td>\n",
       "      <td>4.39</td>\n",
       "      <td>4.39</td>\n",
       "      <td>0.000000</td>\n",
       "      <td>0.0</td>\n",
       "      <td>0.00</td>\n",
       "      <td>2011-12-31 07:55:00</td>\n",
       "    </tr>\n",
       "    <tr>\n",
       "      <th>2011-12-31 07:56:00</th>\n",
       "      <td>4.39</td>\n",
       "      <td>4.39</td>\n",
       "      <td>4.39</td>\n",
       "      <td>4.39</td>\n",
       "      <td>0.000000</td>\n",
       "      <td>0.0</td>\n",
       "      <td>0.00</td>\n",
       "      <td>2011-12-31 07:56:00</td>\n",
       "    </tr>\n",
       "  </tbody>\n",
       "</table>\n",
       "</div>"
      ],
      "text/plain": [
       "                     Open  High   Low  Close  Volume_(BTC)  Volume_(Currency)  \\\n",
       "Timestamp                                                                       \n",
       "2011-12-31 07:52:00  4.39  4.39  4.39   4.39      0.455581                2.0   \n",
       "2011-12-31 07:53:00  4.39  4.39  4.39   4.39      0.000000                0.0   \n",
       "2011-12-31 07:54:00  4.39  4.39  4.39   4.39      0.000000                0.0   \n",
       "2011-12-31 07:55:00  4.39  4.39  4.39   4.39      0.000000                0.0   \n",
       "2011-12-31 07:56:00  4.39  4.39  4.39   4.39      0.000000                0.0   \n",
       "\n",
       "                     Weighted_Price            time_col  \n",
       "Timestamp                                                \n",
       "2011-12-31 07:52:00            4.39 2011-12-31 07:52:00  \n",
       "2011-12-31 07:53:00            0.00 2011-12-31 07:53:00  \n",
       "2011-12-31 07:54:00            0.00 2011-12-31 07:54:00  \n",
       "2011-12-31 07:55:00            0.00 2011-12-31 07:55:00  \n",
       "2011-12-31 07:56:00            0.00 2011-12-31 07:56:00  "
      ]
     },
     "execution_count": 26,
     "metadata": {},
     "output_type": "execute_result"
    }
   ],
   "source": [
    "# imputation\n",
    "bitcoin_df_imputation1[['Open', 'High', 'Low']] = bitcoin_df_imputation1[['Open', 'High', 'Low']].fillna( \\\n",
    "                                                            impute1_df)\n",
    "bitcoin_df_imputation1.head()"
   ]
  },
  {
   "cell_type": "code",
   "execution_count": 27,
   "metadata": {
    "execution": {
     "iopub.execute_input": "2020-09-30T09:20:07.710648Z",
     "iopub.status.busy": "2020-09-30T09:20:07.709810Z",
     "iopub.status.idle": "2020-09-30T09:20:07.816902Z",
     "shell.execute_reply": "2020-09-30T09:20:07.816049Z"
    },
    "papermill": {
     "duration": 0.166167,
     "end_time": "2020-09-30T09:20:07.817060",
     "exception": false,
     "start_time": "2020-09-30T09:20:07.650893",
     "status": "completed"
    },
    "tags": []
   },
   "outputs": [
    {
     "name": "stdout",
     "output_type": "stream",
     "text": [
      "(4572257, 8)\n"
     ]
    },
    {
     "data": {
      "text/plain": [
       "Open                 0\n",
       "High                 0\n",
       "Low                  0\n",
       "Close                0\n",
       "Volume_(BTC)         0\n",
       "Volume_(Currency)    0\n",
       "Weighted_Price       0\n",
       "time_col             0\n",
       "dtype: int64"
      ]
     },
     "execution_count": 27,
     "metadata": {},
     "output_type": "execute_result"
    }
   ],
   "source": [
    "print(bitcoin_df_imputation1.shape)\n",
    "bitcoin_df_imputation1.isnull().sum()"
   ]
  },
  {
   "cell_type": "markdown",
   "metadata": {
    "papermill": {
     "duration": 0.054763,
     "end_time": "2020-09-30T09:20:07.928600",
     "exception": false,
     "start_time": "2020-09-30T09:20:07.873837",
     "status": "completed"
    },
    "tags": []
   },
   "source": [
    "The 'Weighted_Price' column of 'df' doesn't have any value of zero, we will use this to further confirm that our imputation was done properly. "
   ]
  },
  {
   "cell_type": "code",
   "execution_count": 28,
   "metadata": {
    "execution": {
     "iopub.execute_input": "2020-09-30T09:20:08.049017Z",
     "iopub.status.busy": "2020-09-30T09:20:08.048207Z",
     "iopub.status.idle": "2020-09-30T09:20:08.058714Z",
     "shell.execute_reply": "2020-09-30T09:20:08.057944Z"
    },
    "papermill": {
     "duration": 0.074701,
     "end_time": "2020-09-30T09:20:08.058836",
     "exception": false,
     "start_time": "2020-09-30T09:20:07.984135",
     "status": "completed"
    },
    "tags": []
   },
   "outputs": [
    {
     "data": {
      "text/plain": [
       "0"
      ]
     },
     "execution_count": 28,
     "metadata": {},
     "output_type": "execute_result"
    }
   ],
   "source": [
    "(df['Weighted_Price'] == 0).sum() # checks the number of zero values in 'Weighted_Price' column of 'df'"
   ]
  },
  {
   "cell_type": "code",
   "execution_count": 29,
   "metadata": {
    "execution": {
     "iopub.execute_input": "2020-09-30T09:20:08.180611Z",
     "iopub.status.busy": "2020-09-30T09:20:08.179535Z",
     "iopub.status.idle": "2020-09-30T09:20:08.194670Z",
     "shell.execute_reply": "2020-09-30T09:20:08.195288Z"
    },
    "papermill": {
     "duration": 0.080962,
     "end_time": "2020-09-30T09:20:08.195465",
     "exception": false,
     "start_time": "2020-09-30T09:20:08.114503",
     "status": "completed"
    },
    "tags": []
   },
   "outputs": [],
   "source": [
    "assert (bitcoin_df_imputation1['Weighted_Price'] == 0).sum() == missing_val_mask['Open'].sum()"
   ]
  },
  {
   "cell_type": "code",
   "execution_count": 30,
   "metadata": {
    "execution": {
     "iopub.execute_input": "2020-09-30T09:20:08.312421Z",
     "iopub.status.busy": "2020-09-30T09:20:08.311377Z",
     "iopub.status.idle": "2020-09-30T09:20:08.315047Z",
     "shell.execute_reply": "2020-09-30T09:20:08.314313Z"
    },
    "papermill": {
     "duration": 0.06454,
     "end_time": "2020-09-30T09:20:08.315213",
     "exception": false,
     "start_time": "2020-09-30T09:20:08.250673",
     "status": "completed"
    },
    "tags": []
   },
   "outputs": [],
   "source": [
    "# making a list of all columns apart from 'time_col' column and'Open' column\n",
    "cols = list(bitcoin_df_imputation1.columns[1:-1])\n",
    "\n",
    "# creating the appropriate subplot indices for the cols to be used for making plots\n",
    "ind = list(range(3, 9))"
   ]
  },
  {
   "cell_type": "markdown",
   "metadata": {
    "papermill": {
     "duration": 0.054873,
     "end_time": "2020-09-30T09:20:08.426758",
     "exception": false,
     "start_time": "2020-09-30T09:20:08.371885",
     "status": "completed"
    },
    "tags": []
   },
   "source": [
    "Let's create a function that would plot the cols and 'Open' with 'Timestamp' for a given dataframe"
   ]
  },
  {
   "cell_type": "code",
   "execution_count": 31,
   "metadata": {
    "execution": {
     "iopub.execute_input": "2020-09-30T09:20:08.548048Z",
     "iopub.status.busy": "2020-09-30T09:20:08.546951Z",
     "iopub.status.idle": "2020-09-30T09:20:08.549745Z",
     "shell.execute_reply": "2020-09-30T09:20:08.550378Z"
    },
    "papermill": {
     "duration": 0.068562,
     "end_time": "2020-09-30T09:20:08.550541",
     "exception": false,
     "start_time": "2020-09-30T09:20:08.481979",
     "status": "completed"
    },
    "tags": []
   },
   "outputs": [],
   "source": [
    "def plot_series_of_each_column(d_f, cols=cols):\n",
    "    fig = plt.figure(figsize=(18, 8))\n",
    "    for i, col in zip(ind, cols):\n",
    "        a = fig.add_subplot(4, 2, i)\n",
    "        plt.xlabel('year')\n",
    "        plt.ylabel(col)\n",
    "        plt.plot(d_f.index, d_f[col], '-')\n",
    "        plt.grid()\n",
    "    \n",
    "    a = fig.add_subplot(4, 1, 1)\n",
    "    plt.xlabel('year')\n",
    "    plt.ylabel('Open')\n",
    "    plt.plot(d_f.index, d_f['Open'], '-')\n",
    "    plt.grid()"
   ]
  },
  {
   "cell_type": "code",
   "execution_count": 32,
   "metadata": {
    "execution": {
     "iopub.execute_input": "2020-09-30T09:20:08.675778Z",
     "iopub.status.busy": "2020-09-30T09:20:08.674651Z",
     "iopub.status.idle": "2020-09-30T09:20:15.103988Z",
     "shell.execute_reply": "2020-09-30T09:20:15.103401Z"
    },
    "papermill": {
     "duration": 6.497071,
     "end_time": "2020-09-30T09:20:15.104139",
     "exception": false,
     "start_time": "2020-09-30T09:20:08.607068",
     "status": "completed"
    },
    "tags": []
   },
   "outputs": [
    {
     "data": {
      "image/png": "[encoded data removed]",
      "text/plain": [
       "<Figure size 1296x576 with 7 Axes>"
      ]
     },
     "metadata": {
      "needs_background": "light"
     },
     "output_type": "display_data"
    }
   ],
   "source": [
    "plot_series_of_each_column(bitcoin_df_imputation1)"
   ]
  },
  {
   "cell_type": "markdown",
   "metadata": {
    "papermill": {
     "duration": 0.05723,
     "end_time": "2020-09-30T09:20:15.219826",
     "exception": false,
     "start_time": "2020-09-30T09:20:15.162596",
     "status": "completed"
    },
    "tags": []
   },
   "source": [
    "Approach 2: dropping rows with Nan values"
   ]
  },
  {
   "cell_type": "code",
   "execution_count": 33,
   "metadata": {
    "execution": {
     "iopub.execute_input": "2020-09-30T09:20:15.340579Z",
     "iopub.status.busy": "2020-09-30T09:20:15.339764Z",
     "iopub.status.idle": "2020-09-30T09:20:15.503387Z",
     "shell.execute_reply": "2020-09-30T09:20:15.502549Z"
    },
    "papermill": {
     "duration": 0.226084,
     "end_time": "2020-09-30T09:20:15.503526",
     "exception": false,
     "start_time": "2020-09-30T09:20:15.277442",
     "status": "completed"
    },
    "tags": []
   },
   "outputs": [],
   "source": [
    "bitcoin_df_imputation2 = bitcoin_df.copy() # makes a copy of 'bitcoin_df'. \n",
    "# 'bitcoin_df_imputation2' signifies our second approach of dropping rows with Nan values."
   ]
  },
  {
   "cell_type": "code",
   "execution_count": 34,
   "metadata": {
    "execution": {
     "iopub.execute_input": "2020-09-30T09:20:15.629697Z",
     "iopub.status.busy": "2020-09-30T09:20:15.628935Z",
     "iopub.status.idle": "2020-09-30T09:20:16.062913Z",
     "shell.execute_reply": "2020-09-30T09:20:16.062132Z"
    },
    "papermill": {
     "duration": 0.499917,
     "end_time": "2020-09-30T09:20:16.063092",
     "exception": false,
     "start_time": "2020-09-30T09:20:15.563175",
     "status": "completed"
    },
    "tags": []
   },
   "outputs": [
    {
     "name": "stdout",
     "output_type": "stream",
     "text": [
      "(3330541, 8)\n"
     ]
    },
    {
     "data": {
      "text/plain": [
       "Open                 0\n",
       "High                 0\n",
       "Low                  0\n",
       "Close                0\n",
       "Volume_(BTC)         0\n",
       "Volume_(Currency)    0\n",
       "Weighted_Price       0\n",
       "time_col             0\n",
       "dtype: int64"
      ]
     },
     "execution_count": 34,
     "metadata": {},
     "output_type": "execute_result"
    }
   ],
   "source": [
    "bitcoin_df_imputation2.dropna(inplace=True)\n",
    "print(bitcoin_df_imputation2.shape)\n",
    "bitcoin_df_imputation2.isnull().sum()"
   ]
  },
  {
   "cell_type": "code",
   "execution_count": 35,
   "metadata": {
    "execution": {
     "iopub.execute_input": "2020-09-30T09:20:16.194806Z",
     "iopub.status.busy": "2020-09-30T09:20:16.193889Z",
     "iopub.status.idle": "2020-09-30T09:20:20.864537Z",
     "shell.execute_reply": "2020-09-30T09:20:20.865187Z"
    },
    "papermill": {
     "duration": 4.743067,
     "end_time": "2020-09-30T09:20:20.865379",
     "exception": false,
     "start_time": "2020-09-30T09:20:16.122312",
     "status": "completed"
    },
    "tags": []
   },
   "outputs": [
    {
     "data": {
      "image/png": "[encoded data removed]",
      "text/plain": [
       "<Figure size 1296x576 with 7 Axes>"
      ]
     },
     "metadata": {
      "needs_background": "light"
     },
     "output_type": "display_data"
    }
   ],
   "source": [
    "plot_series_of_each_column(bitcoin_df_imputation2)"
   ]
  },
  {
   "cell_type": "markdown",
   "metadata": {
    "papermill": {
     "duration": 0.075702,
     "end_time": "2020-09-30T09:20:21.013093",
     "exception": false,
     "start_time": "2020-09-30T09:20:20.937391",
     "status": "completed"
    },
    "tags": []
   },
   "source": [
    "# So, our next task is to build a model with each of these approaches (````bitcoin_df_imputation1```` and ````bitcoin_df_imputation2````) and then choose the model with best performance!\n",
    "\n",
    "# Thank you."
   ]
  },
  {
   "cell_type": "code",
   "execution_count": null,
   "metadata": {
    "papermill": {
     "duration": 0.062858,
     "end_time": "2020-09-30T09:20:21.138482",
     "exception": false,
     "start_time": "2020-09-30T09:20:21.075624",
     "status": "completed"
    },
    "tags": []
   },
   "outputs": [],
   "source": []
  }
 ],
 "metadata": {
  "kernelspec": {
   "display_name": "Python 3",
   "language": "python",
   "name": "python3"
  },
  "language_info": {
   "codemirror_mode": {
    "name": "ipython",
    "version": 3
   },
   "file_extension": ".py",
   "mimetype": "text/x-python",
   "name": "python",
   "nbconvert_exporter": "python",
   "pygments_lexer": "ipython3",
   "version": "3.7.6"
  },
  "papermill": {
   "duration": 109.041174,
   "end_time": "2020-09-30T09:20:21.309045",
   "environment_variables": {},
   "exception": null,
   "input_path": "__notebook__.ipynb",
   "output_path": "__notebook__.ipynb",
   "parameters": {},
   "start_time": "2020-09-30T09:18:32.267871",
   "version": "2.1.0"
  }
 },
 "nbformat": 4,
 "nbformat_minor": 4
}
