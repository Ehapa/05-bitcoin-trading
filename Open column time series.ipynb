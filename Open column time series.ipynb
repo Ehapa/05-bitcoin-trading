{
 "cells": [
  {
   "cell_type": "markdown",
   "metadata": {
    "_cell_guid": "b1076dfc-b9ad-4769-8c92-a6c4dae69d19",
    "_uuid": "8f2839f25d086af736a60e9eeb907d3b93b6e0e5",
    "papermill": {
     "duration": 0.048592,
     "end_time": "2020-10-02T07:37:35.674372",
     "exception": false,
     "start_time": "2020-10-02T07:37:35.625780",
     "status": "completed"
    },
    "tags": []
   },
   "source": [
    "# Data Cleaning"
   ]
  },
  {
   "cell_type": "markdown",
   "metadata": {
    "papermill": {
     "duration": 0.045369,
     "end_time": "2020-10-02T07:37:35.765484",
     "exception": false,
     "start_time": "2020-10-02T07:37:35.720115",
     "status": "completed"
    },
    "tags": []
   },
   "source": [
    "Importing useful libraries"
   ]
  },
  {
   "cell_type": "code",
   "execution_count": 1,
   "metadata": {
    "_cell_guid": "79c7e3d0-c299-4dcb-8224-4455121ee9b0",
    "_uuid": "d629ff2d2480ee46fbb7e2d37f6b5fab8052498a",
    "execution": {
     "iopub.execute_input": "2020-10-02T07:37:35.866927Z",
     "iopub.status.busy": "2020-10-02T07:37:35.866104Z",
     "iopub.status.idle": "2020-10-02T07:37:35.869457Z",
     "shell.execute_reply": "2020-10-02T07:37:35.868663Z"
    },
    "papermill": {
     "duration": 0.057839,
     "end_time": "2020-10-02T07:37:35.869608",
     "exception": false,
     "start_time": "2020-10-02T07:37:35.811769",
     "status": "completed"
    },
    "tags": []
   },
   "outputs": [],
   "source": [
    "import numpy as np\n",
    "import pandas as pd\n",
    "import matplotlib.pyplot as plt\n",
    "\n",
    "%matplotlib inline"
   ]
  },
  {
   "cell_type": "markdown",
   "metadata": {
    "papermill": {
     "duration": 0.045782,
     "end_time": "2020-10-02T07:37:35.961762",
     "exception": false,
     "start_time": "2020-10-02T07:37:35.915980",
     "status": "completed"
    },
    "tags": []
   },
   "source": [
    "Loading in the data"
   ]
  },
  {
   "cell_type": "code",
   "execution_count": 2,
   "metadata": {
    "execution": {
     "iopub.execute_input": "2020-10-02T07:37:36.064090Z",
     "iopub.status.busy": "2020-10-02T07:37:36.063258Z",
     "iopub.status.idle": "2020-10-02T07:37:41.390974Z",
     "shell.execute_reply": "2020-10-02T07:37:41.391571Z"
    },
    "papermill": {
     "duration": 5.383953,
     "end_time": "2020-10-02T07:37:41.391748",
     "exception": false,
     "start_time": "2020-10-02T07:37:36.007795",
     "status": "completed"
    },
    "tags": []
   },
   "outputs": [
    {
     "name": "stdout",
     "output_type": "stream",
     "text": [
      "(4572257, 8)\n"
     ]
    },
    {
     "data": {
      "text/html": [
       "<div>\n",
       "<style scoped>\n",
       "    .dataframe tbody tr th:only-of-type {\n",
       "        vertical-align: middle;\n",
       "    }\n",
       "\n",
       "    .dataframe tbody tr th {\n",
       "        vertical-align: top;\n",
       "    }\n",
       "\n",
       "    .dataframe thead th {\n",
       "        text-align: right;\n",
       "    }\n",
       "</style>\n",
       "<table border=\"1\" class=\"dataframe\">\n",
       "  <thead>\n",
       "    <tr style=\"text-align: right;\">\n",
       "      <th></th>\n",
       "      <th>Timestamp</th>\n",
       "      <th>Open</th>\n",
       "      <th>High</th>\n",
       "      <th>Low</th>\n",
       "      <th>Close</th>\n",
       "      <th>Volume_(BTC)</th>\n",
       "      <th>Volume_(Currency)</th>\n",
       "      <th>Weighted_Price</th>\n",
       "    </tr>\n",
       "  </thead>\n",
       "  <tbody>\n",
       "    <tr>\n",
       "      <th>0</th>\n",
       "      <td>1325317920</td>\n",
       "      <td>4.39</td>\n",
       "      <td>4.39</td>\n",
       "      <td>4.39</td>\n",
       "      <td>4.39</td>\n",
       "      <td>0.455581</td>\n",
       "      <td>2.0</td>\n",
       "      <td>4.39</td>\n",
       "    </tr>\n",
       "    <tr>\n",
       "      <th>1</th>\n",
       "      <td>1325317980</td>\n",
       "      <td>NaN</td>\n",
       "      <td>NaN</td>\n",
       "      <td>NaN</td>\n",
       "      <td>NaN</td>\n",
       "      <td>NaN</td>\n",
       "      <td>NaN</td>\n",
       "      <td>NaN</td>\n",
       "    </tr>\n",
       "    <tr>\n",
       "      <th>2</th>\n",
       "      <td>1325318040</td>\n",
       "      <td>NaN</td>\n",
       "      <td>NaN</td>\n",
       "      <td>NaN</td>\n",
       "      <td>NaN</td>\n",
       "      <td>NaN</td>\n",
       "      <td>NaN</td>\n",
       "      <td>NaN</td>\n",
       "    </tr>\n",
       "    <tr>\n",
       "      <th>3</th>\n",
       "      <td>1325318100</td>\n",
       "      <td>NaN</td>\n",
       "      <td>NaN</td>\n",
       "      <td>NaN</td>\n",
       "      <td>NaN</td>\n",
       "      <td>NaN</td>\n",
       "      <td>NaN</td>\n",
       "      <td>NaN</td>\n",
       "    </tr>\n",
       "    <tr>\n",
       "      <th>4</th>\n",
       "      <td>1325318160</td>\n",
       "      <td>NaN</td>\n",
       "      <td>NaN</td>\n",
       "      <td>NaN</td>\n",
       "      <td>NaN</td>\n",
       "      <td>NaN</td>\n",
       "      <td>NaN</td>\n",
       "      <td>NaN</td>\n",
       "    </tr>\n",
       "  </tbody>\n",
       "</table>\n",
       "</div>"
      ],
      "text/plain": [
       "    Timestamp  Open  High   Low  Close  Volume_(BTC)  Volume_(Currency)  \\\n",
       "0  1325317920  4.39  4.39  4.39   4.39      0.455581                2.0   \n",
       "1  1325317980   NaN   NaN   NaN    NaN           NaN                NaN   \n",
       "2  1325318040   NaN   NaN   NaN    NaN           NaN                NaN   \n",
       "3  1325318100   NaN   NaN   NaN    NaN           NaN                NaN   \n",
       "4  1325318160   NaN   NaN   NaN    NaN           NaN                NaN   \n",
       "\n",
       "   Weighted_Price  \n",
       "0            4.39  \n",
       "1             NaN  \n",
       "2             NaN  \n",
       "3             NaN  \n",
       "4             NaN  "
      ]
     },
     "execution_count": 2,
     "metadata": {},
     "output_type": "execute_result"
    }
   ],
   "source": [
    "df = pd.read_csv('../input/bitcoin-historical-data/bitstampUSD_1-min_data_2012-01-01_to_2020-09-14.csv')\n",
    "print(df.shape)\n",
    "df.head()"
   ]
  },
  {
   "cell_type": "code",
   "execution_count": 3,
   "metadata": {
    "execution": {
     "iopub.execute_input": "2020-10-02T07:37:41.493030Z",
     "iopub.status.busy": "2020-10-02T07:37:41.492200Z",
     "iopub.status.idle": "2020-10-02T07:37:41.602858Z",
     "shell.execute_reply": "2020-10-02T07:37:41.602181Z"
    },
    "papermill": {
     "duration": 0.163366,
     "end_time": "2020-10-02T07:37:41.602985",
     "exception": false,
     "start_time": "2020-10-02T07:37:41.439619",
     "status": "completed"
    },
    "tags": []
   },
   "outputs": [],
   "source": [
    "bitcoin_df = df.copy() # making a copy of the dataset to work with"
   ]
  },
  {
   "cell_type": "code",
   "execution_count": 4,
   "metadata": {
    "execution": {
     "iopub.execute_input": "2020-10-02T07:37:41.709536Z",
     "iopub.status.busy": "2020-10-02T07:37:41.708736Z",
     "iopub.status.idle": "2020-10-02T07:37:41.951082Z",
     "shell.execute_reply": "2020-10-02T07:37:41.951629Z"
    },
    "papermill": {
     "duration": 0.300811,
     "end_time": "2020-10-02T07:37:41.951787",
     "exception": false,
     "start_time": "2020-10-02T07:37:41.650976",
     "status": "completed"
    },
    "tags": []
   },
   "outputs": [
    {
     "data": {
      "text/html": [
       "<div>\n",
       "<style scoped>\n",
       "    .dataframe tbody tr th:only-of-type {\n",
       "        vertical-align: middle;\n",
       "    }\n",
       "\n",
       "    .dataframe tbody tr th {\n",
       "        vertical-align: top;\n",
       "    }\n",
       "\n",
       "    .dataframe thead th {\n",
       "        text-align: right;\n",
       "    }\n",
       "</style>\n",
       "<table border=\"1\" class=\"dataframe\">\n",
       "  <thead>\n",
       "    <tr style=\"text-align: right;\">\n",
       "      <th></th>\n",
       "      <th>Open</th>\n",
       "      <th>High</th>\n",
       "      <th>Low</th>\n",
       "      <th>Close</th>\n",
       "      <th>Volume_(BTC)</th>\n",
       "      <th>Volume_(Currency)</th>\n",
       "      <th>Weighted_Price</th>\n",
       "    </tr>\n",
       "    <tr>\n",
       "      <th>Timestamp</th>\n",
       "      <th></th>\n",
       "      <th></th>\n",
       "      <th></th>\n",
       "      <th></th>\n",
       "      <th></th>\n",
       "      <th></th>\n",
       "      <th></th>\n",
       "    </tr>\n",
       "  </thead>\n",
       "  <tbody>\n",
       "    <tr>\n",
       "      <th>2011-12-31 07:52:00</th>\n",
       "      <td>4.39</td>\n",
       "      <td>4.39</td>\n",
       "      <td>4.39</td>\n",
       "      <td>4.39</td>\n",
       "      <td>0.455581</td>\n",
       "      <td>2.0</td>\n",
       "      <td>4.39</td>\n",
       "    </tr>\n",
       "    <tr>\n",
       "      <th>2011-12-31 07:53:00</th>\n",
       "      <td>NaN</td>\n",
       "      <td>NaN</td>\n",
       "      <td>NaN</td>\n",
       "      <td>NaN</td>\n",
       "      <td>NaN</td>\n",
       "      <td>NaN</td>\n",
       "      <td>NaN</td>\n",
       "    </tr>\n",
       "    <tr>\n",
       "      <th>2011-12-31 07:54:00</th>\n",
       "      <td>NaN</td>\n",
       "      <td>NaN</td>\n",
       "      <td>NaN</td>\n",
       "      <td>NaN</td>\n",
       "      <td>NaN</td>\n",
       "      <td>NaN</td>\n",
       "      <td>NaN</td>\n",
       "    </tr>\n",
       "    <tr>\n",
       "      <th>2011-12-31 07:55:00</th>\n",
       "      <td>NaN</td>\n",
       "      <td>NaN</td>\n",
       "      <td>NaN</td>\n",
       "      <td>NaN</td>\n",
       "      <td>NaN</td>\n",
       "      <td>NaN</td>\n",
       "      <td>NaN</td>\n",
       "    </tr>\n",
       "    <tr>\n",
       "      <th>2011-12-31 07:56:00</th>\n",
       "      <td>NaN</td>\n",
       "      <td>NaN</td>\n",
       "      <td>NaN</td>\n",
       "      <td>NaN</td>\n",
       "      <td>NaN</td>\n",
       "      <td>NaN</td>\n",
       "      <td>NaN</td>\n",
       "    </tr>\n",
       "  </tbody>\n",
       "</table>\n",
       "</div>"
      ],
      "text/plain": [
       "                     Open  High   Low  Close  Volume_(BTC)  Volume_(Currency)  \\\n",
       "Timestamp                                                                       \n",
       "2011-12-31 07:52:00  4.39  4.39  4.39   4.39      0.455581                2.0   \n",
       "2011-12-31 07:53:00   NaN   NaN   NaN    NaN           NaN                NaN   \n",
       "2011-12-31 07:54:00   NaN   NaN   NaN    NaN           NaN                NaN   \n",
       "2011-12-31 07:55:00   NaN   NaN   NaN    NaN           NaN                NaN   \n",
       "2011-12-31 07:56:00   NaN   NaN   NaN    NaN           NaN                NaN   \n",
       "\n",
       "                     Weighted_Price  \n",
       "Timestamp                            \n",
       "2011-12-31 07:52:00            4.39  \n",
       "2011-12-31 07:53:00             NaN  \n",
       "2011-12-31 07:54:00             NaN  \n",
       "2011-12-31 07:55:00             NaN  \n",
       "2011-12-31 07:56:00             NaN  "
      ]
     },
     "execution_count": 4,
     "metadata": {},
     "output_type": "execute_result"
    }
   ],
   "source": [
    "time_col = pd.to_datetime(bitcoin_df['Timestamp'], unit='s') # converting the 'Timestamp' column to \n",
    "                                                             # datetime object\n",
    "\n",
    "bitcoin_df.drop('Timestamp', axis=1, inplace=True) # drops the 'Timestamp' column\n",
    "bitcoin_df['Timestamp'] = time_col # creates a new 'Timestamp' column with datetime dtype\n",
    "bitcoin_df.set_index('Timestamp', inplace=True) # makes 'Timestamp' the index\n",
    "\n",
    "bitcoin_df.head()"
   ]
  },
  {
   "cell_type": "code",
   "execution_count": 5,
   "metadata": {
    "execution": {
     "iopub.execute_input": "2020-10-02T07:37:42.054484Z",
     "iopub.status.busy": "2020-10-02T07:37:42.053713Z",
     "iopub.status.idle": "2020-10-02T07:37:42.124619Z",
     "shell.execute_reply": "2020-10-02T07:37:42.123879Z"
    },
    "papermill": {
     "duration": 0.124396,
     "end_time": "2020-10-02T07:37:42.124747",
     "exception": false,
     "start_time": "2020-10-02T07:37:42.000351",
     "status": "completed"
    },
    "tags": []
   },
   "outputs": [
    {
     "data": {
      "text/plain": [
       "Open                 1241716\n",
       "High                 1241716\n",
       "Low                  1241716\n",
       "Close                1241716\n",
       "Volume_(BTC)         1241716\n",
       "Volume_(Currency)    1241716\n",
       "Weighted_Price       1241716\n",
       "dtype: int64"
      ]
     },
     "execution_count": 5,
     "metadata": {},
     "output_type": "execute_result"
    }
   ],
   "source": [
    "missing_val_mask = bitcoin_df.isnull() # creating a dataframe with boolean values indicating the presence of \n",
    "                                       # missing value\n",
    "missing_val_mask.sum()"
   ]
  },
  {
   "cell_type": "markdown",
   "metadata": {
    "papermill": {
     "duration": 0.048993,
     "end_time": "2020-10-02T07:37:42.222905",
     "exception": false,
     "start_time": "2020-10-02T07:37:42.173912",
     "status": "completed"
    },
    "tags": []
   },
   "source": [
    "Let's check if all columns have Nan values for each row with any Nan value. "
   ]
  },
  {
   "cell_type": "code",
   "execution_count": 6,
   "metadata": {
    "execution": {
     "iopub.execute_input": "2020-10-02T07:37:42.327847Z",
     "iopub.status.busy": "2020-10-02T07:37:42.327046Z",
     "iopub.status.idle": "2020-10-02T07:37:42.423584Z",
     "shell.execute_reply": "2020-10-02T07:37:42.422854Z"
    },
    "papermill": {
     "duration": 0.151135,
     "end_time": "2020-10-02T07:37:42.423717",
     "exception": false,
     "start_time": "2020-10-02T07:37:42.272582",
     "status": "completed"
    },
    "tags": []
   },
   "outputs": [
    {
     "data": {
      "text/plain": [
       "True"
      ]
     },
     "execution_count": 6,
     "metadata": {},
     "output_type": "execute_result"
    }
   ],
   "source": [
    "missing_val_mask.sum(axis=1).sum() == len(bitcoin_df.columns) * missing_val_mask.sum().loc['Open']"
   ]
  },
  {
   "cell_type": "markdown",
   "metadata": {
    "papermill": {
     "duration": 0.049116,
     "end_time": "2020-10-02T07:37:42.522400",
     "exception": false,
     "start_time": "2020-10-02T07:37:42.473284",
     "status": "completed"
    },
    "tags": []
   },
   "source": [
    "Confirmed!"
   ]
  },
  {
   "cell_type": "code",
   "execution_count": 7,
   "metadata": {
    "execution": {
     "iopub.execute_input": "2020-10-02T07:37:42.628079Z",
     "iopub.status.busy": "2020-10-02T07:37:42.627274Z",
     "iopub.status.idle": "2020-10-02T07:37:42.667534Z",
     "shell.execute_reply": "2020-10-02T07:37:42.668348Z"
    },
    "papermill": {
     "duration": 0.096646,
     "end_time": "2020-10-02T07:37:42.668573",
     "exception": false,
     "start_time": "2020-10-02T07:37:42.571927",
     "status": "completed"
    },
    "tags": []
   },
   "outputs": [
    {
     "name": "stdout",
     "output_type": "stream",
     "text": [
      "There are 1241716 rows with missing values which make up 27.158% of the total number of rows\n"
     ]
    }
   ],
   "source": [
    "n_missing_val = missing_val_mask.sum().loc['Open'] # number of rows with missing values\n",
    "print('There are {} rows with missing values which make up {}% of the total number of rows'.format( \\\n",
    "                                            n_missing_val, round(100*n_missing_val / bitcoin_df.shape[0], 3)))"
   ]
  },
  {
   "cell_type": "code",
   "execution_count": 8,
   "metadata": {
    "execution": {
     "iopub.execute_input": "2020-10-02T07:37:42.777774Z",
     "iopub.status.busy": "2020-10-02T07:37:42.776250Z",
     "iopub.status.idle": "2020-10-02T07:37:42.941447Z",
     "shell.execute_reply": "2020-10-02T07:37:42.942022Z"
    },
    "papermill": {
     "duration": 0.222639,
     "end_time": "2020-10-02T07:37:42.942200",
     "exception": false,
     "start_time": "2020-10-02T07:37:42.719561",
     "status": "completed"
    },
    "tags": []
   },
   "outputs": [],
   "source": [
    "# creating a dataframe that contains only rows with missing values\n",
    "missing_val_df = bitcoin_df[missing_val_mask.sum(axis=1) == 7].copy()\n",
    "\n",
    "# asserting that the number of rows in 'missing_val_df' is same as the number of rows with missing values in 'df'\n",
    "assert missing_val_df.shape[0] == n_missing_val "
   ]
  },
  {
   "cell_type": "code",
   "execution_count": 9,
   "metadata": {
    "execution": {
     "iopub.execute_input": "2020-10-02T07:37:43.048654Z",
     "iopub.status.busy": "2020-10-02T07:37:43.047907Z",
     "iopub.status.idle": "2020-10-02T07:37:52.031112Z",
     "shell.execute_reply": "2020-10-02T07:37:52.030470Z"
    },
    "papermill": {
     "duration": 9.038816,
     "end_time": "2020-10-02T07:37:52.031234",
     "exception": false,
     "start_time": "2020-10-02T07:37:42.992418",
     "status": "completed"
    },
    "tags": []
   },
   "outputs": [
    {
     "data": {
      "text/html": [
       "<div>\n",
       "<style scoped>\n",
       "    .dataframe tbody tr th:only-of-type {\n",
       "        vertical-align: middle;\n",
       "    }\n",
       "\n",
       "    .dataframe tbody tr th {\n",
       "        vertical-align: top;\n",
       "    }\n",
       "\n",
       "    .dataframe thead th {\n",
       "        text-align: right;\n",
       "    }\n",
       "</style>\n",
       "<table border=\"1\" class=\"dataframe\">\n",
       "  <thead>\n",
       "    <tr style=\"text-align: right;\">\n",
       "      <th></th>\n",
       "      <th>Open</th>\n",
       "      <th>High</th>\n",
       "      <th>Low</th>\n",
       "      <th>Close</th>\n",
       "      <th>Volume_(BTC)</th>\n",
       "      <th>Volume_(Currency)</th>\n",
       "      <th>Weighted_Price</th>\n",
       "      <th>date</th>\n",
       "    </tr>\n",
       "    <tr>\n",
       "      <th>Timestamp</th>\n",
       "      <th></th>\n",
       "      <th></th>\n",
       "      <th></th>\n",
       "      <th></th>\n",
       "      <th></th>\n",
       "      <th></th>\n",
       "      <th></th>\n",
       "      <th></th>\n",
       "    </tr>\n",
       "  </thead>\n",
       "  <tbody>\n",
       "    <tr>\n",
       "      <th>2011-12-31 07:53:00</th>\n",
       "      <td>NaN</td>\n",
       "      <td>NaN</td>\n",
       "      <td>NaN</td>\n",
       "      <td>NaN</td>\n",
       "      <td>NaN</td>\n",
       "      <td>NaN</td>\n",
       "      <td>NaN</td>\n",
       "      <td>2011-12-31</td>\n",
       "    </tr>\n",
       "    <tr>\n",
       "      <th>2011-12-31 07:54:00</th>\n",
       "      <td>NaN</td>\n",
       "      <td>NaN</td>\n",
       "      <td>NaN</td>\n",
       "      <td>NaN</td>\n",
       "      <td>NaN</td>\n",
       "      <td>NaN</td>\n",
       "      <td>NaN</td>\n",
       "      <td>2011-12-31</td>\n",
       "    </tr>\n",
       "    <tr>\n",
       "      <th>2011-12-31 07:55:00</th>\n",
       "      <td>NaN</td>\n",
       "      <td>NaN</td>\n",
       "      <td>NaN</td>\n",
       "      <td>NaN</td>\n",
       "      <td>NaN</td>\n",
       "      <td>NaN</td>\n",
       "      <td>NaN</td>\n",
       "      <td>2011-12-31</td>\n",
       "    </tr>\n",
       "    <tr>\n",
       "      <th>2011-12-31 07:56:00</th>\n",
       "      <td>NaN</td>\n",
       "      <td>NaN</td>\n",
       "      <td>NaN</td>\n",
       "      <td>NaN</td>\n",
       "      <td>NaN</td>\n",
       "      <td>NaN</td>\n",
       "      <td>NaN</td>\n",
       "      <td>2011-12-31</td>\n",
       "    </tr>\n",
       "    <tr>\n",
       "      <th>2011-12-31 07:57:00</th>\n",
       "      <td>NaN</td>\n",
       "      <td>NaN</td>\n",
       "      <td>NaN</td>\n",
       "      <td>NaN</td>\n",
       "      <td>NaN</td>\n",
       "      <td>NaN</td>\n",
       "      <td>NaN</td>\n",
       "      <td>2011-12-31</td>\n",
       "    </tr>\n",
       "  </tbody>\n",
       "</table>\n",
       "</div>"
      ],
      "text/plain": [
       "                     Open  High  Low  Close  Volume_(BTC)  Volume_(Currency)  \\\n",
       "Timestamp                                                                      \n",
       "2011-12-31 07:53:00   NaN   NaN  NaN    NaN           NaN                NaN   \n",
       "2011-12-31 07:54:00   NaN   NaN  NaN    NaN           NaN                NaN   \n",
       "2011-12-31 07:55:00   NaN   NaN  NaN    NaN           NaN                NaN   \n",
       "2011-12-31 07:56:00   NaN   NaN  NaN    NaN           NaN                NaN   \n",
       "2011-12-31 07:57:00   NaN   NaN  NaN    NaN           NaN                NaN   \n",
       "\n",
       "                     Weighted_Price        date  \n",
       "Timestamp                                        \n",
       "2011-12-31 07:53:00             NaN  2011-12-31  \n",
       "2011-12-31 07:54:00             NaN  2011-12-31  \n",
       "2011-12-31 07:55:00             NaN  2011-12-31  \n",
       "2011-12-31 07:56:00             NaN  2011-12-31  \n",
       "2011-12-31 07:57:00             NaN  2011-12-31  "
      ]
     },
     "execution_count": 9,
     "metadata": {},
     "output_type": "execute_result"
    }
   ],
   "source": [
    "# creating a 'date' column that contains only the date\n",
    "missing_val_df['date'] = pd.Series(missing_val_df.index).apply(lambda x: x.date()).values\n",
    "missing_val_df.head()"
   ]
  },
  {
   "cell_type": "markdown",
   "metadata": {
    "papermill": {
     "duration": 0.052293,
     "end_time": "2020-10-02T07:37:52.140245",
     "exception": false,
     "start_time": "2020-10-02T07:37:52.087952",
     "status": "completed"
    },
    "tags": []
   },
   "source": [
    "Let's check the duration of Nan values per day in minutes"
   ]
  },
  {
   "cell_type": "code",
   "execution_count": 10,
   "metadata": {
    "execution": {
     "iopub.execute_input": "2020-10-02T07:37:52.536365Z",
     "iopub.status.busy": "2020-10-02T07:37:52.535360Z",
     "iopub.status.idle": "2020-10-02T07:37:52.657530Z",
     "shell.execute_reply": "2020-10-02T07:37:52.656665Z"
    },
    "papermill": {
     "duration": 0.465112,
     "end_time": "2020-10-02T07:37:52.657697",
     "exception": false,
     "start_time": "2020-10-02T07:37:52.192585",
     "status": "completed"
    },
    "tags": []
   },
   "outputs": [],
   "source": [
    "daily_Nan_minute = missing_val_df.groupby('date').apply(lambda x: x.shape[0])"
   ]
  },
  {
   "cell_type": "code",
   "execution_count": 11,
   "metadata": {
    "execution": {
     "iopub.execute_input": "2020-10-02T07:37:52.771211Z",
     "iopub.status.busy": "2020-10-02T07:37:52.770172Z",
     "iopub.status.idle": "2020-10-02T07:37:52.773635Z",
     "shell.execute_reply": "2020-10-02T07:37:52.773005Z"
    },
    "papermill": {
     "duration": 0.059992,
     "end_time": "2020-10-02T07:37:52.773759",
     "exception": false,
     "start_time": "2020-10-02T07:37:52.713767",
     "status": "completed"
    },
    "tags": []
   },
   "outputs": [],
   "source": [
    "assert daily_Nan_minute.sum() == n_missing_val"
   ]
  },
  {
   "cell_type": "code",
   "execution_count": 12,
   "metadata": {
    "execution": {
     "iopub.execute_input": "2020-10-02T07:37:52.886969Z",
     "iopub.status.busy": "2020-10-02T07:37:52.886135Z",
     "iopub.status.idle": "2020-10-02T07:37:52.890261Z",
     "shell.execute_reply": "2020-10-02T07:37:52.889456Z"
    },
    "papermill": {
     "duration": 0.064054,
     "end_time": "2020-10-02T07:37:52.890431",
     "exception": false,
     "start_time": "2020-10-02T07:37:52.826377",
     "status": "completed"
    },
    "tags": []
   },
   "outputs": [
    {
     "name": "stdout",
     "output_type": "stream",
     "text": [
      "a day has 1440 minutes\n",
      "maximum duration of Nan values in minute is 1439mins which is 99.931% of the day\n",
      "minimum duration of Nan values in minute is 1mins which is 0.069% of the day\n"
     ]
    }
   ],
   "source": [
    "print('a day has {} minutes'.format(60*24))\n",
    "print('maximum duration of Nan values in minute is {}mins which is {}% of the day'.format( \\\n",
    "                daily_Nan_minute.max(), round(100*daily_Nan_minute.max() / (60*24), 3)))\n",
    "print('minimum duration of Nan values in minute is {}mins which is {}% of the day'.format( \\\n",
    "                daily_Nan_minute.min(), round(100*daily_Nan_minute.min() / (60*24), 3)))"
   ]
  },
  {
   "cell_type": "code",
   "execution_count": 13,
   "metadata": {
    "execution": {
     "iopub.execute_input": "2020-10-02T07:37:53.011389Z",
     "iopub.status.busy": "2020-10-02T07:37:53.010369Z",
     "iopub.status.idle": "2020-10-02T07:37:53.015646Z",
     "shell.execute_reply": "2020-10-02T07:37:53.014854Z"
    },
    "papermill": {
     "duration": 0.071735,
     "end_time": "2020-10-02T07:37:53.015774",
     "exception": false,
     "start_time": "2020-10-02T07:37:52.944039",
     "status": "completed"
    },
    "tags": []
   },
   "outputs": [
    {
     "data": {
      "text/html": [
       "<div>\n",
       "<style scoped>\n",
       "    .dataframe tbody tr th:only-of-type {\n",
       "        vertical-align: middle;\n",
       "    }\n",
       "\n",
       "    .dataframe tbody tr th {\n",
       "        vertical-align: top;\n",
       "    }\n",
       "\n",
       "    .dataframe thead th {\n",
       "        text-align: right;\n",
       "    }\n",
       "</style>\n",
       "<table border=\"1\" class=\"dataframe\">\n",
       "  <thead>\n",
       "    <tr style=\"text-align: right;\">\n",
       "      <th></th>\n",
       "      <th>Open</th>\n",
       "      <th>High</th>\n",
       "      <th>Low</th>\n",
       "      <th>Close</th>\n",
       "      <th>Volume_(BTC)</th>\n",
       "      <th>Volume_(Currency)</th>\n",
       "      <th>Weighted_Price</th>\n",
       "      <th>date</th>\n",
       "    </tr>\n",
       "    <tr>\n",
       "      <th>Timestamp</th>\n",
       "      <th></th>\n",
       "      <th></th>\n",
       "      <th></th>\n",
       "      <th></th>\n",
       "      <th></th>\n",
       "      <th></th>\n",
       "      <th></th>\n",
       "      <th></th>\n",
       "    </tr>\n",
       "  </thead>\n",
       "  <tbody>\n",
       "    <tr>\n",
       "      <th>2020-09-13 13:35:00</th>\n",
       "      <td>NaN</td>\n",
       "      <td>NaN</td>\n",
       "      <td>NaN</td>\n",
       "      <td>NaN</td>\n",
       "      <td>NaN</td>\n",
       "      <td>NaN</td>\n",
       "      <td>NaN</td>\n",
       "      <td>2020-09-13</td>\n",
       "    </tr>\n",
       "  </tbody>\n",
       "</table>\n",
       "</div>"
      ],
      "text/plain": [
       "                     Open  High  Low  Close  Volume_(BTC)  Volume_(Currency)  \\\n",
       "Timestamp                                                                      \n",
       "2020-09-13 13:35:00   NaN   NaN  NaN    NaN           NaN                NaN   \n",
       "\n",
       "                     Weighted_Price        date  \n",
       "Timestamp                                        \n",
       "2020-09-13 13:35:00             NaN  2020-09-13  "
      ]
     },
     "execution_count": 13,
     "metadata": {},
     "output_type": "execute_result"
    }
   ],
   "source": [
    "missing_val_df.tail(1) # checking the last time with Nan value"
   ]
  },
  {
   "cell_type": "code",
   "execution_count": 14,
   "metadata": {
    "execution": {
     "iopub.execute_input": "2020-10-02T07:37:53.132076Z",
     "iopub.status.busy": "2020-10-02T07:37:53.131053Z",
     "iopub.status.idle": "2020-10-02T07:37:53.134572Z",
     "shell.execute_reply": "2020-10-02T07:37:53.135491Z"
    },
    "papermill": {
     "duration": 0.066596,
     "end_time": "2020-10-02T07:37:53.135703",
     "exception": false,
     "start_time": "2020-10-02T07:37:53.069107",
     "status": "completed"
    },
    "tags": []
   },
   "outputs": [
    {
     "name": "stdout",
     "output_type": "stream",
     "text": [
      "1st quartile of timestamp with Nan value is 2012-08-08 22:52:00\n",
      "median of timestamp with Nan value is 2013-05-18 14:39:00\n",
      "3rd quartile of timestamp with Nan value is 2015-08-23 20:01:00\n"
     ]
    }
   ],
   "source": [
    "print('1st quartile of timestamp with Nan value is {}'.format(missing_val_df.index[len(missing_val_df)//4]))\n",
    "print('median of timestamp with Nan value is {}'.format(missing_val_df.index[len(missing_val_df)//2]))\n",
    "print('3rd quartile of timestamp with Nan value is {}'.format(missing_val_df.index[3*(len(missing_val_df)//4)]))"
   ]
  },
  {
   "cell_type": "code",
   "execution_count": 15,
   "metadata": {
    "execution": {
     "iopub.execute_input": "2020-10-02T07:37:53.250686Z",
     "iopub.status.busy": "2020-10-02T07:37:53.249921Z",
     "iopub.status.idle": "2020-10-02T07:37:53.553314Z",
     "shell.execute_reply": "2020-10-02T07:37:53.553919Z"
    },
    "papermill": {
     "duration": 0.364475,
     "end_time": "2020-10-02T07:37:53.554086",
     "exception": false,
     "start_time": "2020-10-02T07:37:53.189611",
     "status": "completed"
    },
    "tags": []
   },
   "outputs": [
    {
     "data": {
      "image/png": "[encoded data removed]",
      "text/plain": [
       "<Figure size 432x288 with 1 Axes>"
      ]
     },
     "metadata": {
      "needs_background": "light"
     },
     "output_type": "display_data"
    }
   ],
   "source": [
    "hist = plt.hist(missing_val_df.index) # checking the distribution of the Nan values"
   ]
  },
  {
   "cell_type": "markdown",
   "metadata": {
    "papermill": {
     "duration": 0.053724,
     "end_time": "2020-10-02T07:37:53.662290",
     "exception": false,
     "start_time": "2020-10-02T07:37:53.608566",
     "status": "completed"
    },
    "tags": []
   },
   "source": [
    "So we see that the Nan values are skewed to the left. Nan values are heavily present in past years than earlier years."
   ]
  },
  {
   "cell_type": "markdown",
   "metadata": {
    "papermill": {
     "duration": 0.053824,
     "end_time": "2020-10-02T07:37:53.771415",
     "exception": false,
     "start_time": "2020-10-02T07:37:53.717591",
     "status": "completed"
    },
    "tags": []
   },
   "source": [
    "### Let's see the reason for the missing values as stated by Zielak the provider of the dataset so we know how to handle them.\n",
    "\n",
    "> *CSV files for select bitcoin exchanges for the time period of Jan 2012 to September 2020, with minute to minute updates of OHLC (Open, High, Low, Close), Volume in BTC and indicated currency, and weighted bitcoin price. Timestamps are in Unix time. **TIMESTAMPS WITHOUT ANY TRADES OR ACTIVITY HAVE THEIR DATA FIELDS FILLED WITH NANS**...*"
   ]
  },
  {
   "cell_type": "markdown",
   "metadata": {
    "papermill": {
     "duration": 0.054596,
     "end_time": "2020-10-02T07:37:53.880169",
     "exception": false,
     "start_time": "2020-10-02T07:37:53.825573",
     "status": "completed"
    },
    "tags": []
   },
   "source": [
    "### Zielak also told us about jumps in timestamps and here is the reason:\n",
    "> ***...IF A TIMESTAMP IS MISSING, OR IF THERE ARE JUMPS, THIS MAY BE BECAUSE THE EXCHANGE (OR ITS API) WAS DOWN, THE EXCHANGE (OR ITS API) DID NOT EXIST, OR SOME OTHER UNFORESEEN TECHNICAL ERROR IN THE DATA REPORTING OR GATHERING***. *All effort has been made to deduplicate entries and verify the contents are correct and complete to the best of my ability, but obviously trust at your own risk.*"
   ]
  },
  {
   "cell_type": "markdown",
   "metadata": {
    "papermill": {
     "duration": 0.053796,
     "end_time": "2020-10-02T07:37:53.988585",
     "exception": false,
     "start_time": "2020-10-02T07:37:53.934789",
     "status": "completed"
    },
    "tags": []
   },
   "source": [
    "So, let;s check for time jumps and contraction. Jump if any of the sampling rate is greater than a minute and contraction if it is less than a minute."
   ]
  },
  {
   "cell_type": "code",
   "execution_count": 16,
   "metadata": {
    "execution": {
     "iopub.execute_input": "2020-10-02T07:37:54.108982Z",
     "iopub.status.busy": "2020-10-02T07:37:54.107932Z",
     "iopub.status.idle": "2020-10-02T07:39:01.677108Z",
     "shell.execute_reply": "2020-10-02T07:39:01.677736Z"
    },
    "papermill": {
     "duration": 67.635195,
     "end_time": "2020-10-02T07:39:01.677915",
     "exception": false,
     "start_time": "2020-10-02T07:37:54.042720",
     "status": "completed"
    },
    "tags": []
   },
   "outputs": [
    {
     "data": {
      "text/plain": [
       "Timestamp\n",
       "2011-12-31 07:53:00    60.0\n",
       "2011-12-31 07:54:00    60.0\n",
       "2011-12-31 07:55:00    60.0\n",
       "2011-12-31 07:56:00    60.0\n",
       "2011-12-31 07:57:00    60.0\n",
       "Name: time_col, dtype: float64"
      ]
     },
     "execution_count": 16,
     "metadata": {},
     "output_type": "execute_result"
    }
   ],
   "source": [
    "bitcoin_df['time_col'] = bitcoin_df.index\n",
    "# takeing the first order difference to get the duration of Nan values\n",
    "\n",
    "time_jump = (bitcoin_df['time_col'] - bitcoin_df['time_col'].shift()).dropna() \n",
    "delta_time = time_jump.apply(lambda x: x.total_seconds()) # converts the duration to seconds\n",
    "\n",
    "delta_time.head()"
   ]
  },
  {
   "cell_type": "code",
   "execution_count": 17,
   "metadata": {
    "execution": {
     "iopub.execute_input": "2020-10-02T07:39:01.794467Z",
     "iopub.status.busy": "2020-10-02T07:39:01.793405Z",
     "iopub.status.idle": "2020-10-02T07:39:01.797046Z",
     "shell.execute_reply": "2020-10-02T07:39:01.796323Z"
    },
    "papermill": {
     "duration": 0.064125,
     "end_time": "2020-10-02T07:39:01.797167",
     "exception": false,
     "start_time": "2020-10-02T07:39:01.733042",
     "status": "completed"
    },
    "tags": []
   },
   "outputs": [],
   "source": [
    "assert delta_time.shape[0] + 1 == bitcoin_df.shape[0] # confirming the number of rows"
   ]
  },
  {
   "cell_type": "code",
   "execution_count": 18,
   "metadata": {
    "execution": {
     "iopub.execute_input": "2020-10-02T07:39:01.916349Z",
     "iopub.status.busy": "2020-10-02T07:39:01.915138Z",
     "iopub.status.idle": "2020-10-02T07:39:01.939617Z",
     "shell.execute_reply": "2020-10-02T07:39:01.938943Z"
    },
    "papermill": {
     "duration": 0.087212,
     "end_time": "2020-10-02T07:39:01.939748",
     "exception": false,
     "start_time": "2020-10-02T07:39:01.852536",
     "status": "completed"
    },
    "tags": []
   },
   "outputs": [
    {
     "name": "stdout",
     "output_type": "stream",
     "text": [
      "There is 1 time jump\n",
      "There is 0 time contraction\n"
     ]
    }
   ],
   "source": [
    "print('There is {} time jump'.format((delta_time > 60).sum()))\n",
    "print('There is {} time contraction'.format((delta_time < 60).sum()))"
   ]
  },
  {
   "cell_type": "markdown",
   "metadata": {
    "papermill": {
     "duration": 0.055085,
     "end_time": "2020-10-02T07:39:02.051114",
     "exception": false,
     "start_time": "2020-10-02T07:39:01.996029",
     "status": "completed"
    },
    "tags": []
   },
   "source": [
    "So there is no time contraction, let's now find where exactly the time jump is."
   ]
  },
  {
   "cell_type": "code",
   "execution_count": 19,
   "metadata": {
    "execution": {
     "iopub.execute_input": "2020-10-02T07:39:02.172957Z",
     "iopub.status.busy": "2020-10-02T07:39:02.172203Z",
     "iopub.status.idle": "2020-10-02T07:39:02.184810Z",
     "shell.execute_reply": "2020-10-02T07:39:02.184069Z"
    },
    "papermill": {
     "duration": 0.077622,
     "end_time": "2020-10-02T07:39:02.184936",
     "exception": false,
     "start_time": "2020-10-02T07:39:02.107314",
     "status": "completed"
    },
    "tags": []
   },
   "outputs": [
    {
     "name": "stdout",
     "output_type": "stream",
     "text": [
      "time jump duration is 4.495 days\n"
     ]
    }
   ],
   "source": [
    "jump_duration = delta_time[delta_time > 60].values[0]\n",
    "print('time jump duration is {} days'.format(round(jump_duration/(3600*24), 3)))"
   ]
  },
  {
   "cell_type": "code",
   "execution_count": 20,
   "metadata": {
    "execution": {
     "iopub.execute_input": "2020-10-02T07:39:02.307957Z",
     "iopub.status.busy": "2020-10-02T07:39:02.306904Z",
     "iopub.status.idle": "2020-10-02T07:39:02.340764Z",
     "shell.execute_reply": "2020-10-02T07:39:02.340157Z"
    },
    "papermill": {
     "duration": 0.099531,
     "end_time": "2020-10-02T07:39:02.340892",
     "exception": false,
     "start_time": "2020-10-02T07:39:02.241361",
     "status": "completed"
    },
    "tags": []
   },
   "outputs": [
    {
     "data": {
      "text/html": [
       "<div>\n",
       "<style scoped>\n",
       "    .dataframe tbody tr th:only-of-type {\n",
       "        vertical-align: middle;\n",
       "    }\n",
       "\n",
       "    .dataframe tbody tr th {\n",
       "        vertical-align: top;\n",
       "    }\n",
       "\n",
       "    .dataframe thead th {\n",
       "        text-align: right;\n",
       "    }\n",
       "</style>\n",
       "<table border=\"1\" class=\"dataframe\">\n",
       "  <thead>\n",
       "    <tr style=\"text-align: right;\">\n",
       "      <th></th>\n",
       "      <th>Open</th>\n",
       "      <th>High</th>\n",
       "      <th>Low</th>\n",
       "      <th>Close</th>\n",
       "      <th>Volume_(BTC)</th>\n",
       "      <th>Volume_(Currency)</th>\n",
       "      <th>Weighted_Price</th>\n",
       "      <th>time_col</th>\n",
       "    </tr>\n",
       "    <tr>\n",
       "      <th>Timestamp</th>\n",
       "      <th></th>\n",
       "      <th></th>\n",
       "      <th></th>\n",
       "      <th></th>\n",
       "      <th></th>\n",
       "      <th></th>\n",
       "      <th></th>\n",
       "      <th></th>\n",
       "    </tr>\n",
       "  </thead>\n",
       "  <tbody>\n",
       "    <tr>\n",
       "      <th>2015-01-05 09:12:00</th>\n",
       "      <td>276.80</td>\n",
       "      <td>276.8</td>\n",
       "      <td>276.80</td>\n",
       "      <td>276.8</td>\n",
       "      <td>0.100000</td>\n",
       "      <td>27.680000</td>\n",
       "      <td>276.800000</td>\n",
       "      <td>2015-01-05 09:12:00</td>\n",
       "    </tr>\n",
       "    <tr>\n",
       "      <th>2015-01-09 21:05:00</th>\n",
       "      <td>272.45</td>\n",
       "      <td>305.0</td>\n",
       "      <td>272.45</td>\n",
       "      <td>291.1</td>\n",
       "      <td>175.837078</td>\n",
       "      <td>50502.066285</td>\n",
       "      <td>287.209426</td>\n",
       "      <td>2015-01-09 21:05:00</td>\n",
       "    </tr>\n",
       "  </tbody>\n",
       "</table>\n",
       "</div>"
      ],
      "text/plain": [
       "                       Open   High     Low  Close  Volume_(BTC)  \\\n",
       "Timestamp                                                         \n",
       "2015-01-05 09:12:00  276.80  276.8  276.80  276.8      0.100000   \n",
       "2015-01-09 21:05:00  272.45  305.0  272.45  291.1    175.837078   \n",
       "\n",
       "                     Volume_(Currency)  Weighted_Price            time_col  \n",
       "Timestamp                                                                   \n",
       "2015-01-05 09:12:00          27.680000      276.800000 2015-01-05 09:12:00  \n",
       "2015-01-09 21:05:00       50502.066285      287.209426 2015-01-09 21:05:00  "
      ]
     },
     "execution_count": 20,
     "metadata": {},
     "output_type": "execute_result"
    }
   ],
   "source": [
    "ind_of_time_jump = delta_time.index.get_loc(delta_time[delta_time > 60].index[0])\n",
    "bitcoin_df.iloc[ind_of_time_jump: ind_of_time_jump+2]"
   ]
  },
  {
   "cell_type": "code",
   "execution_count": 21,
   "metadata": {
    "execution": {
     "iopub.execute_input": "2020-10-02T07:39:02.460555Z",
     "iopub.status.busy": "2020-10-02T07:39:02.459587Z",
     "iopub.status.idle": "2020-10-02T07:39:02.464066Z",
     "shell.execute_reply": "2020-10-02T07:39:02.463329Z"
    },
    "papermill": {
     "duration": 0.066245,
     "end_time": "2020-10-02T07:39:02.464190",
     "exception": false,
     "start_time": "2020-10-02T07:39:02.397945",
     "status": "completed"
    },
    "tags": []
   },
   "outputs": [
    {
     "data": {
      "text/plain": [
       "5790"
      ]
     },
     "execution_count": 21,
     "metadata": {},
     "output_type": "execute_result"
    }
   ],
   "source": [
    "24*60*4 + 30"
   ]
  },
  {
   "cell_type": "markdown",
   "metadata": {
    "papermill": {
     "duration": 0.057209,
     "end_time": "2020-10-02T07:39:02.579169",
     "exception": false,
     "start_time": "2020-10-02T07:39:02.521960",
     "status": "completed"
    },
    "tags": []
   },
   "source": [
    "Although, there are more than one reasons for jumps in 'Timestamps' as stated by Zielak, one of worth noting is that \"it may be the exchange or its API was down or didn't exist. A jump of approximately 4.5 days was observed which is 5,790mins (5,790 jumps). This jump is huge and we can conclude that it may not be due to error in data gathering rather, it may be due to a downtime in API or exchanges that don't exist. This is a strong reasoning and we will decide to **NOT** impute the jumps in time because we may be too biased if we impute such a great jump.\n",
    "\n",
    "Resampling and smoothing before feeding the dataset to a model would cater for the effect of the jumps."
   ]
  },
  {
   "cell_type": "markdown",
   "metadata": {
    "papermill": {
     "duration": 0.058574,
     "end_time": "2020-10-02T07:39:02.695404",
     "exception": false,
     "start_time": "2020-10-02T07:39:02.636830",
     "status": "completed"
    },
    "tags": []
   },
   "source": [
    "Let's check if there is any duplicate in 'Timestamp' values"
   ]
  },
  {
   "cell_type": "code",
   "execution_count": 22,
   "metadata": {
    "execution": {
     "iopub.execute_input": "2020-10-02T07:39:02.817043Z",
     "iopub.status.busy": "2020-10-02T07:39:02.816262Z",
     "iopub.status.idle": "2020-10-02T07:39:03.504965Z",
     "shell.execute_reply": "2020-10-02T07:39:03.504356Z"
    },
    "papermill": {
     "duration": 0.751639,
     "end_time": "2020-10-02T07:39:03.505091",
     "exception": false,
     "start_time": "2020-10-02T07:39:02.753452",
     "status": "completed"
    },
    "tags": []
   },
   "outputs": [
    {
     "data": {
      "text/plain": [
       "True"
      ]
     },
     "execution_count": 22,
     "metadata": {},
     "output_type": "execute_result"
    }
   ],
   "source": [
    "len(bitcoin_df['time_col'].unique()) == bitcoin_df.shape[0]"
   ]
  },
  {
   "cell_type": "markdown",
   "metadata": {
    "papermill": {
     "duration": 0.057835,
     "end_time": "2020-10-02T07:39:03.621045",
     "exception": false,
     "start_time": "2020-10-02T07:39:03.563210",
     "status": "completed"
    },
    "tags": []
   },
   "source": [
    "So, we conclude that there are no duplicates in 'Timestamp' values!"
   ]
  },
  {
   "cell_type": "markdown",
   "metadata": {
    "papermill": {
     "duration": 0.058209,
     "end_time": "2020-10-02T07:39:03.737602",
     "exception": false,
     "start_time": "2020-10-02T07:39:03.679393",
     "status": "completed"
    },
    "tags": []
   },
   "source": [
    "Let's check the total span of the dataset."
   ]
  },
  {
   "cell_type": "code",
   "execution_count": 23,
   "metadata": {
    "execution": {
     "iopub.execute_input": "2020-10-02T07:39:03.863051Z",
     "iopub.status.busy": "2020-10-02T07:39:03.862087Z",
     "iopub.status.idle": "2020-10-02T07:39:03.865578Z",
     "shell.execute_reply": "2020-10-02T07:39:03.866235Z"
    },
    "papermill": {
     "duration": 0.070684,
     "end_time": "2020-10-02T07:39:03.866576",
     "exception": false,
     "start_time": "2020-10-02T07:39:03.795892",
     "status": "completed"
    },
    "tags": []
   },
   "outputs": [
    {
     "name": "stdout",
     "output_type": "stream",
     "text": [
      "the dataset spans for 3179 days 16:08:00\n"
     ]
    }
   ],
   "source": [
    "print('the dataset spans for {}'.format(bitcoin_df.index[-1] - bitcoin_df.index[0]))"
   ]
  },
  {
   "cell_type": "markdown",
   "metadata": {
    "papermill": {
     "duration": 0.059063,
     "end_time": "2020-10-02T07:39:03.985176",
     "exception": false,
     "start_time": "2020-10-02T07:39:03.926113",
     "status": "completed"
    },
    "tags": []
   },
   "source": [
    "Let's now go back to the Nan values. this time, we will be handling them. since the cause of missingness is \"No trading activity\", it will be biased to use imputation methods like EMA or filling with a particular value since there was no trading activity in real sense.\n",
    "\n",
    "There are two best ways to handle missing values of this nature:\n",
    "1. By filling 'Volume_(BTC)', 'Volume_(Currency)', and 'Weighted_Price' columns with zeros since there was no trading activity. Then, we do forward fill for 'Close' column and fill 'Open', 'High', and 'Low' columns with the values of the 'Close' column to make it a constant (horizontal) line of that peroid of inactivity.\n",
    "2. Dropping the rows with Nan values because in actual sense, there was no trade for those periods.\n",
    "\n",
    "WE WILL USE EACH OF THE APPROACHES TO BUILD OUR MODEL AND SELECT THE ONE WITH BEST PERFORMANCE!"
   ]
  },
  {
   "cell_type": "markdown",
   "metadata": {
    "papermill": {
     "duration": 0.059475,
     "end_time": "2020-10-02T07:39:04.103618",
     "exception": false,
     "start_time": "2020-10-02T07:39:04.044143",
     "status": "completed"
    },
    "tags": []
   },
   "source": [
    "### Approach 1: Imputation"
   ]
  },
  {
   "cell_type": "code",
   "execution_count": 24,
   "metadata": {
    "execution": {
     "iopub.execute_input": "2020-10-02T07:39:04.281846Z",
     "iopub.status.busy": "2020-10-02T07:39:04.280331Z",
     "iopub.status.idle": "2020-10-02T07:39:04.608151Z",
     "shell.execute_reply": "2020-10-02T07:39:04.607406Z"
    },
    "papermill": {
     "duration": 0.396677,
     "end_time": "2020-10-02T07:39:04.608273",
     "exception": false,
     "start_time": "2020-10-02T07:39:04.211596",
     "status": "completed"
    },
    "tags": []
   },
   "outputs": [
    {
     "data": {
      "text/html": [
       "<div>\n",
       "<style scoped>\n",
       "    .dataframe tbody tr th:only-of-type {\n",
       "        vertical-align: middle;\n",
       "    }\n",
       "\n",
       "    .dataframe tbody tr th {\n",
       "        vertical-align: top;\n",
       "    }\n",
       "\n",
       "    .dataframe thead th {\n",
       "        text-align: right;\n",
       "    }\n",
       "</style>\n",
       "<table border=\"1\" class=\"dataframe\">\n",
       "  <thead>\n",
       "    <tr style=\"text-align: right;\">\n",
       "      <th></th>\n",
       "      <th>Open</th>\n",
       "      <th>High</th>\n",
       "      <th>Low</th>\n",
       "      <th>Close</th>\n",
       "      <th>Volume_(BTC)</th>\n",
       "      <th>Volume_(Currency)</th>\n",
       "      <th>Weighted_Price</th>\n",
       "      <th>time_col</th>\n",
       "    </tr>\n",
       "    <tr>\n",
       "      <th>Timestamp</th>\n",
       "      <th></th>\n",
       "      <th></th>\n",
       "      <th></th>\n",
       "      <th></th>\n",
       "      <th></th>\n",
       "      <th></th>\n",
       "      <th></th>\n",
       "      <th></th>\n",
       "    </tr>\n",
       "  </thead>\n",
       "  <tbody>\n",
       "    <tr>\n",
       "      <th>2011-12-31 07:52:00</th>\n",
       "      <td>4.39</td>\n",
       "      <td>4.39</td>\n",
       "      <td>4.39</td>\n",
       "      <td>4.39</td>\n",
       "      <td>0.455581</td>\n",
       "      <td>2.0</td>\n",
       "      <td>4.39</td>\n",
       "      <td>2011-12-31 07:52:00</td>\n",
       "    </tr>\n",
       "    <tr>\n",
       "      <th>2011-12-31 07:53:00</th>\n",
       "      <td>NaN</td>\n",
       "      <td>NaN</td>\n",
       "      <td>NaN</td>\n",
       "      <td>4.39</td>\n",
       "      <td>0.000000</td>\n",
       "      <td>0.0</td>\n",
       "      <td>0.00</td>\n",
       "      <td>2011-12-31 07:53:00</td>\n",
       "    </tr>\n",
       "    <tr>\n",
       "      <th>2011-12-31 07:54:00</th>\n",
       "      <td>NaN</td>\n",
       "      <td>NaN</td>\n",
       "      <td>NaN</td>\n",
       "      <td>4.39</td>\n",
       "      <td>0.000000</td>\n",
       "      <td>0.0</td>\n",
       "      <td>0.00</td>\n",
       "      <td>2011-12-31 07:54:00</td>\n",
       "    </tr>\n",
       "    <tr>\n",
       "      <th>2011-12-31 07:55:00</th>\n",
       "      <td>NaN</td>\n",
       "      <td>NaN</td>\n",
       "      <td>NaN</td>\n",
       "      <td>4.39</td>\n",
       "      <td>0.000000</td>\n",
       "      <td>0.0</td>\n",
       "      <td>0.00</td>\n",
       "      <td>2011-12-31 07:55:00</td>\n",
       "    </tr>\n",
       "    <tr>\n",
       "      <th>2011-12-31 07:56:00</th>\n",
       "      <td>NaN</td>\n",
       "      <td>NaN</td>\n",
       "      <td>NaN</td>\n",
       "      <td>4.39</td>\n",
       "      <td>0.000000</td>\n",
       "      <td>0.0</td>\n",
       "      <td>0.00</td>\n",
       "      <td>2011-12-31 07:56:00</td>\n",
       "    </tr>\n",
       "  </tbody>\n",
       "</table>\n",
       "</div>"
      ],
      "text/plain": [
       "                     Open  High   Low  Close  Volume_(BTC)  Volume_(Currency)  \\\n",
       "Timestamp                                                                       \n",
       "2011-12-31 07:52:00  4.39  4.39  4.39   4.39      0.455581                2.0   \n",
       "2011-12-31 07:53:00   NaN   NaN   NaN   4.39      0.000000                0.0   \n",
       "2011-12-31 07:54:00   NaN   NaN   NaN   4.39      0.000000                0.0   \n",
       "2011-12-31 07:55:00   NaN   NaN   NaN   4.39      0.000000                0.0   \n",
       "2011-12-31 07:56:00   NaN   NaN   NaN   4.39      0.000000                0.0   \n",
       "\n",
       "                     Weighted_Price            time_col  \n",
       "Timestamp                                                \n",
       "2011-12-31 07:52:00            4.39 2011-12-31 07:52:00  \n",
       "2011-12-31 07:53:00            0.00 2011-12-31 07:53:00  \n",
       "2011-12-31 07:54:00            0.00 2011-12-31 07:54:00  \n",
       "2011-12-31 07:55:00            0.00 2011-12-31 07:55:00  \n",
       "2011-12-31 07:56:00            0.00 2011-12-31 07:56:00  "
      ]
     },
     "execution_count": 24,
     "metadata": {},
     "output_type": "execute_result"
    }
   ],
   "source": [
    "bitcoin_df_imputation1 = bitcoin_df.copy() # makes a copy of 'bitcoin_df'. \n",
    "# 'bitcoin_df_imputation1' signifies our first approach of imputing\n",
    "\n",
    "bitcoin_df_imputation1['Close'].fillna(method='ffill', inplace=True) # forward fill for the 'Close' column\n",
    "\n",
    "# imputing 'Volume_(BTC)', 'Volume_(Currency)', and 'Weighted_Price' with zeros\n",
    "bitcoin_df_imputation1[['Volume_(BTC)', 'Volume_(Currency)', 'Weighted_Price']] = \\\n",
    "bitcoin_df_imputation1[['Volume_(BTC)', 'Volume_(Currency)', 'Weighted_Price']].fillna(0)\n",
    "bitcoin_df_imputation1.head()"
   ]
  },
  {
   "cell_type": "code",
   "execution_count": 25,
   "metadata": {
    "execution": {
     "iopub.execute_input": "2020-10-02T07:39:04.734440Z",
     "iopub.status.busy": "2020-10-02T07:39:04.733692Z",
     "iopub.status.idle": "2020-10-02T07:39:04.779330Z",
     "shell.execute_reply": "2020-10-02T07:39:04.778604Z"
    },
    "papermill": {
     "duration": 0.111474,
     "end_time": "2020-10-02T07:39:04.779451",
     "exception": false,
     "start_time": "2020-10-02T07:39:04.667977",
     "status": "completed"
    },
    "tags": []
   },
   "outputs": [
    {
     "data": {
      "text/html": [
       "<div>\n",
       "<style scoped>\n",
       "    .dataframe tbody tr th:only-of-type {\n",
       "        vertical-align: middle;\n",
       "    }\n",
       "\n",
       "    .dataframe tbody tr th {\n",
       "        vertical-align: top;\n",
       "    }\n",
       "\n",
       "    .dataframe thead th {\n",
       "        text-align: right;\n",
       "    }\n",
       "</style>\n",
       "<table border=\"1\" class=\"dataframe\">\n",
       "  <thead>\n",
       "    <tr style=\"text-align: right;\">\n",
       "      <th></th>\n",
       "      <th>Open</th>\n",
       "      <th>High</th>\n",
       "      <th>Low</th>\n",
       "    </tr>\n",
       "    <tr>\n",
       "      <th>Timestamp</th>\n",
       "      <th></th>\n",
       "      <th></th>\n",
       "      <th></th>\n",
       "    </tr>\n",
       "  </thead>\n",
       "  <tbody>\n",
       "    <tr>\n",
       "      <th>2011-12-31 07:52:00</th>\n",
       "      <td>4.39</td>\n",
       "      <td>4.39</td>\n",
       "      <td>4.39</td>\n",
       "    </tr>\n",
       "    <tr>\n",
       "      <th>2011-12-31 07:53:00</th>\n",
       "      <td>4.39</td>\n",
       "      <td>4.39</td>\n",
       "      <td>4.39</td>\n",
       "    </tr>\n",
       "    <tr>\n",
       "      <th>2011-12-31 07:54:00</th>\n",
       "      <td>4.39</td>\n",
       "      <td>4.39</td>\n",
       "      <td>4.39</td>\n",
       "    </tr>\n",
       "    <tr>\n",
       "      <th>2011-12-31 07:55:00</th>\n",
       "      <td>4.39</td>\n",
       "      <td>4.39</td>\n",
       "      <td>4.39</td>\n",
       "    </tr>\n",
       "    <tr>\n",
       "      <th>2011-12-31 07:56:00</th>\n",
       "      <td>4.39</td>\n",
       "      <td>4.39</td>\n",
       "      <td>4.39</td>\n",
       "    </tr>\n",
       "  </tbody>\n",
       "</table>\n",
       "</div>"
      ],
      "text/plain": [
       "                     Open  High   Low\n",
       "Timestamp                            \n",
       "2011-12-31 07:52:00  4.39  4.39  4.39\n",
       "2011-12-31 07:53:00  4.39  4.39  4.39\n",
       "2011-12-31 07:54:00  4.39  4.39  4.39\n",
       "2011-12-31 07:55:00  4.39  4.39  4.39\n",
       "2011-12-31 07:56:00  4.39  4.39  4.39"
      ]
     },
     "execution_count": 25,
     "metadata": {},
     "output_type": "execute_result"
    }
   ],
   "source": [
    "# copying the values of 'Close' column to three columns of 'Open', 'High', and 'Low' that would later \n",
    "#be used for imputation.\n",
    "impute1_df = pd.DataFrame({'Open': bitcoin_df_imputation1['Close'], 'High': bitcoin_df_imputation1['Close'], \\\n",
    "                          'Low': bitcoin_df_imputation1['Close']})\n",
    "impute1_df.head()"
   ]
  },
  {
   "cell_type": "code",
   "execution_count": 26,
   "metadata": {
    "execution": {
     "iopub.execute_input": "2020-10-02T07:39:04.945810Z",
     "iopub.status.busy": "2020-10-02T07:39:04.945017Z",
     "iopub.status.idle": "2020-10-02T07:39:05.257099Z",
     "shell.execute_reply": "2020-10-02T07:39:05.256325Z"
    },
    "papermill": {
     "duration": 0.416868,
     "end_time": "2020-10-02T07:39:05.257220",
     "exception": false,
     "start_time": "2020-10-02T07:39:04.840352",
     "status": "completed"
    },
    "tags": []
   },
   "outputs": [
    {
     "data": {
      "text/html": [
       "<div>\n",
       "<style scoped>\n",
       "    .dataframe tbody tr th:only-of-type {\n",
       "        vertical-align: middle;\n",
       "    }\n",
       "\n",
       "    .dataframe tbody tr th {\n",
       "        vertical-align: top;\n",
       "    }\n",
       "\n",
       "    .dataframe thead th {\n",
       "        text-align: right;\n",
       "    }\n",
       "</style>\n",
       "<table border=\"1\" class=\"dataframe\">\n",
       "  <thead>\n",
       "    <tr style=\"text-align: right;\">\n",
       "      <th></th>\n",
       "      <th>Open</th>\n",
       "      <th>High</th>\n",
       "      <th>Low</th>\n",
       "      <th>Close</th>\n",
       "      <th>Volume_(BTC)</th>\n",
       "      <th>Volume_(Currency)</th>\n",
       "      <th>Weighted_Price</th>\n",
       "      <th>time_col</th>\n",
       "    </tr>\n",
       "    <tr>\n",
       "      <th>Timestamp</th>\n",
       "      <th></th>\n",
       "      <th></th>\n",
       "      <th></th>\n",
       "      <th></th>\n",
       "      <th></th>\n",
       "      <th></th>\n",
       "      <th></th>\n",
       "      <th></th>\n",
       "    </tr>\n",
       "  </thead>\n",
       "  <tbody>\n",
       "    <tr>\n",
       "      <th>2011-12-31 07:52:00</th>\n",
       "      <td>4.39</td>\n",
       "      <td>4.39</td>\n",
       "      <td>4.39</td>\n",
       "      <td>4.39</td>\n",
       "      <td>0.455581</td>\n",
       "      <td>2.0</td>\n",
       "      <td>4.39</td>\n",
       "      <td>2011-12-31 07:52:00</td>\n",
       "    </tr>\n",
       "    <tr>\n",
       "      <th>2011-12-31 07:53:00</th>\n",
       "      <td>4.39</td>\n",
       "      <td>4.39</td>\n",
       "      <td>4.39</td>\n",
       "      <td>4.39</td>\n",
       "      <td>0.000000</td>\n",
       "      <td>0.0</td>\n",
       "      <td>0.00</td>\n",
       "      <td>2011-12-31 07:53:00</td>\n",
       "    </tr>\n",
       "    <tr>\n",
       "      <th>2011-12-31 07:54:00</th>\n",
       "      <td>4.39</td>\n",
       "      <td>4.39</td>\n",
       "      <td>4.39</td>\n",
       "      <td>4.39</td>\n",
       "      <td>0.000000</td>\n",
       "      <td>0.0</td>\n",
       "      <td>0.00</td>\n",
       "      <td>2011-12-31 07:54:00</td>\n",
       "    </tr>\n",
       "    <tr>\n",
       "      <th>2011-12-31 07:55:00</th>\n",
       "      <td>4.39</td>\n",
       "      <td>4.39</td>\n",
       "      <td>4.39</td>\n",
       "      <td>4.39</td>\n",
       "      <td>0.000000</td>\n",
       "      <td>0.0</td>\n",
       "      <td>0.00</td>\n",
       "      <td>2011-12-31 07:55:00</td>\n",
       "    </tr>\n",
       "    <tr>\n",
       "      <th>2011-12-31 07:56:00</th>\n",
       "      <td>4.39</td>\n",
       "      <td>4.39</td>\n",
       "      <td>4.39</td>\n",
       "      <td>4.39</td>\n",
       "      <td>0.000000</td>\n",
       "      <td>0.0</td>\n",
       "      <td>0.00</td>\n",
       "      <td>2011-12-31 07:56:00</td>\n",
       "    </tr>\n",
       "  </tbody>\n",
       "</table>\n",
       "</div>"
      ],
      "text/plain": [
       "                     Open  High   Low  Close  Volume_(BTC)  Volume_(Currency)  \\\n",
       "Timestamp                                                                       \n",
       "2011-12-31 07:52:00  4.39  4.39  4.39   4.39      0.455581                2.0   \n",
       "2011-12-31 07:53:00  4.39  4.39  4.39   4.39      0.000000                0.0   \n",
       "2011-12-31 07:54:00  4.39  4.39  4.39   4.39      0.000000                0.0   \n",
       "2011-12-31 07:55:00  4.39  4.39  4.39   4.39      0.000000                0.0   \n",
       "2011-12-31 07:56:00  4.39  4.39  4.39   4.39      0.000000                0.0   \n",
       "\n",
       "                     Weighted_Price            time_col  \n",
       "Timestamp                                                \n",
       "2011-12-31 07:52:00            4.39 2011-12-31 07:52:00  \n",
       "2011-12-31 07:53:00            0.00 2011-12-31 07:53:00  \n",
       "2011-12-31 07:54:00            0.00 2011-12-31 07:54:00  \n",
       "2011-12-31 07:55:00            0.00 2011-12-31 07:55:00  \n",
       "2011-12-31 07:56:00            0.00 2011-12-31 07:56:00  "
      ]
     },
     "execution_count": 26,
     "metadata": {},
     "output_type": "execute_result"
    }
   ],
   "source": [
    "# imputation\n",
    "bitcoin_df_imputation1[['Open', 'High', 'Low']] = bitcoin_df_imputation1[['Open', 'High', 'Low']].fillna( \\\n",
    "                                                            impute1_df)\n",
    "bitcoin_df_imputation1.head()"
   ]
  },
  {
   "cell_type": "code",
   "execution_count": 27,
   "metadata": {
    "execution": {
     "iopub.execute_input": "2020-10-02T07:39:05.386340Z",
     "iopub.status.busy": "2020-10-02T07:39:05.385124Z",
     "iopub.status.idle": "2020-10-02T07:39:05.493823Z",
     "shell.execute_reply": "2020-10-02T07:39:05.494374Z"
    },
    "papermill": {
     "duration": 0.175844,
     "end_time": "2020-10-02T07:39:05.494547",
     "exception": false,
     "start_time": "2020-10-02T07:39:05.318703",
     "status": "completed"
    },
    "tags": []
   },
   "outputs": [
    {
     "name": "stdout",
     "output_type": "stream",
     "text": [
      "(4572257, 8)\n"
     ]
    },
    {
     "data": {
      "text/plain": [
       "Open                 0\n",
       "High                 0\n",
       "Low                  0\n",
       "Close                0\n",
       "Volume_(BTC)         0\n",
       "Volume_(Currency)    0\n",
       "Weighted_Price       0\n",
       "time_col             0\n",
       "dtype: int64"
      ]
     },
     "execution_count": 27,
     "metadata": {},
     "output_type": "execute_result"
    }
   ],
   "source": [
    "print(bitcoin_df_imputation1.shape)\n",
    "bitcoin_df_imputation1.isnull().sum()"
   ]
  },
  {
   "cell_type": "markdown",
   "metadata": {
    "papermill": {
     "duration": 0.061655,
     "end_time": "2020-10-02T07:39:05.618443",
     "exception": false,
     "start_time": "2020-10-02T07:39:05.556788",
     "status": "completed"
    },
    "tags": []
   },
   "source": [
    "The 'Weighted_Price' column of 'df' doesn't have any value of zero, we will use this to further confirm that our imputation was done properly. "
   ]
  },
  {
   "cell_type": "code",
   "execution_count": 28,
   "metadata": {
    "execution": {
     "iopub.execute_input": "2020-10-02T07:39:05.752118Z",
     "iopub.status.busy": "2020-10-02T07:39:05.751313Z",
     "iopub.status.idle": "2020-10-02T07:39:05.762603Z",
     "shell.execute_reply": "2020-10-02T07:39:05.762010Z"
    },
    "papermill": {
     "duration": 0.082105,
     "end_time": "2020-10-02T07:39:05.762734",
     "exception": false,
     "start_time": "2020-10-02T07:39:05.680629",
     "status": "completed"
    },
    "tags": []
   },
   "outputs": [
    {
     "data": {
      "text/plain": [
       "0"
      ]
     },
     "execution_count": 28,
     "metadata": {},
     "output_type": "execute_result"
    }
   ],
   "source": [
    "(df['Weighted_Price'] == 0).sum() # checks the number of zero values in 'Weighted_Price' column of 'df'"
   ]
  },
  {
   "cell_type": "code",
   "execution_count": 29,
   "metadata": {
    "execution": {
     "iopub.execute_input": "2020-10-02T07:39:05.895597Z",
     "iopub.status.busy": "2020-10-02T07:39:05.894561Z",
     "iopub.status.idle": "2020-10-02T07:39:05.912277Z",
     "shell.execute_reply": "2020-10-02T07:39:05.911699Z"
    },
    "papermill": {
     "duration": 0.086717,
     "end_time": "2020-10-02T07:39:05.912405",
     "exception": false,
     "start_time": "2020-10-02T07:39:05.825688",
     "status": "completed"
    },
    "tags": []
   },
   "outputs": [],
   "source": [
    "assert (bitcoin_df_imputation1['Weighted_Price'] == 0).sum() == missing_val_mask['Open'].sum()"
   ]
  },
  {
   "cell_type": "code",
   "execution_count": 30,
   "metadata": {
    "execution": {
     "iopub.execute_input": "2020-10-02T07:39:06.044592Z",
     "iopub.status.busy": "2020-10-02T07:39:06.043597Z",
     "iopub.status.idle": "2020-10-02T07:39:06.047010Z",
     "shell.execute_reply": "2020-10-02T07:39:06.046293Z"
    },
    "papermill": {
     "duration": 0.071717,
     "end_time": "2020-10-02T07:39:06.047128",
     "exception": false,
     "start_time": "2020-10-02T07:39:05.975411",
     "status": "completed"
    },
    "tags": []
   },
   "outputs": [],
   "source": [
    "# making a list of all columns apart from 'time_col' column and'Open' column\n",
    "cols = list(bitcoin_df_imputation1.columns[1:-1])\n",
    "\n",
    "# creating the appropriate subplot indices for the cols to be used for making plots\n",
    "ind = list(range(3, 9))"
   ]
  },
  {
   "cell_type": "markdown",
   "metadata": {
    "papermill": {
     "duration": 0.062919,
     "end_time": "2020-10-02T07:39:06.173681",
     "exception": false,
     "start_time": "2020-10-02T07:39:06.110762",
     "status": "completed"
    },
    "tags": []
   },
   "source": [
    "Let's create a function that would plot the cols and 'Open' with 'Timestamp' for a given dataframe"
   ]
  },
  {
   "cell_type": "code",
   "execution_count": 31,
   "metadata": {
    "execution": {
     "iopub.execute_input": "2020-10-02T07:39:06.312362Z",
     "iopub.status.busy": "2020-10-02T07:39:06.311359Z",
     "iopub.status.idle": "2020-10-02T07:39:06.314842Z",
     "shell.execute_reply": "2020-10-02T07:39:06.314201Z"
    },
    "papermill": {
     "duration": 0.077326,
     "end_time": "2020-10-02T07:39:06.314966",
     "exception": false,
     "start_time": "2020-10-02T07:39:06.237640",
     "status": "completed"
    },
    "tags": []
   },
   "outputs": [],
   "source": [
    "def plot_series_of_each_column(d_f, cols=cols):\n",
    "    fig = plt.figure(figsize=(18, 8))\n",
    "    for i, col in zip(ind, cols):\n",
    "        a = fig.add_subplot(4, 2, i)\n",
    "        plt.xlabel('year')\n",
    "        plt.ylabel(col)\n",
    "        plt.plot(d_f.index, d_f[col], '-')\n",
    "        plt.grid()\n",
    "    \n",
    "    a = fig.add_subplot(4, 1, 1)\n",
    "    plt.xlabel('year')\n",
    "    plt.ylabel('Open')\n",
    "    plt.plot(d_f.index, d_f['Open'], '-')\n",
    "    plt.grid()"
   ]
  },
  {
   "cell_type": "code",
   "execution_count": 32,
   "metadata": {
    "execution": {
     "iopub.execute_input": "2020-10-02T07:39:06.454123Z",
     "iopub.status.busy": "2020-10-02T07:39:06.451916Z",
     "iopub.status.idle": "2020-10-02T07:39:12.999729Z",
     "shell.execute_reply": "2020-10-02T07:39:13.000350Z"
    },
    "papermill": {
     "duration": 6.622015,
     "end_time": "2020-10-02T07:39:13.000542",
     "exception": false,
     "start_time": "2020-10-02T07:39:06.378527",
     "status": "completed"
    },
    "tags": []
   },
   "outputs": [
    {
     "data": {
      "image/png": "[encoded data removed]",
      "text/plain": [
       "<Figure size 1296x576 with 7 Axes>"
      ]
     },
     "metadata": {
      "needs_background": "light"
     },
     "output_type": "display_data"
    }
   ],
   "source": [
    "plot_series_of_each_column(bitcoin_df_imputation1)"
   ]
  },
  {
   "cell_type": "markdown",
   "metadata": {
    "papermill": {
     "duration": 0.06665,
     "end_time": "2020-10-02T07:39:13.133422",
     "exception": false,
     "start_time": "2020-10-02T07:39:13.066772",
     "status": "completed"
    },
    "tags": []
   },
   "source": [
    "Approach 2: dropping rows with Nan values"
   ]
  },
  {
   "cell_type": "code",
   "execution_count": 33,
   "metadata": {
    "execution": {
     "iopub.execute_input": "2020-10-02T07:39:13.272287Z",
     "iopub.status.busy": "2020-10-02T07:39:13.271464Z",
     "iopub.status.idle": "2020-10-02T07:39:13.443129Z",
     "shell.execute_reply": "2020-10-02T07:39:13.442357Z"
    },
    "papermill": {
     "duration": 0.243207,
     "end_time": "2020-10-02T07:39:13.443260",
     "exception": false,
     "start_time": "2020-10-02T07:39:13.200053",
     "status": "completed"
    },
    "tags": []
   },
   "outputs": [],
   "source": [
    "bitcoin_df_imputation2 = bitcoin_df.copy() # makes a copy of 'bitcoin_df'. \n",
    "# 'bitcoin_df_imputation2' signifies our second approach of dropping rows with Nan values."
   ]
  },
  {
   "cell_type": "code",
   "execution_count": 34,
   "metadata": {
    "execution": {
     "iopub.execute_input": "2020-10-02T07:39:13.583289Z",
     "iopub.status.busy": "2020-10-02T07:39:13.582019Z",
     "iopub.status.idle": "2020-10-02T07:39:14.047258Z",
     "shell.execute_reply": "2020-10-02T07:39:14.046578Z"
    },
    "papermill": {
     "duration": 0.537095,
     "end_time": "2020-10-02T07:39:14.047394",
     "exception": false,
     "start_time": "2020-10-02T07:39:13.510299",
     "status": "completed"
    },
    "tags": []
   },
   "outputs": [
    {
     "name": "stdout",
     "output_type": "stream",
     "text": [
      "(3330541, 8)\n"
     ]
    },
    {
     "data": {
      "text/plain": [
       "Open                 0\n",
       "High                 0\n",
       "Low                  0\n",
       "Close                0\n",
       "Volume_(BTC)         0\n",
       "Volume_(Currency)    0\n",
       "Weighted_Price       0\n",
       "time_col             0\n",
       "dtype: int64"
      ]
     },
     "execution_count": 34,
     "metadata": {},
     "output_type": "execute_result"
    }
   ],
   "source": [
    "bitcoin_df_imputation2.dropna(inplace=True)\n",
    "print(bitcoin_df_imputation2.shape)\n",
    "bitcoin_df_imputation2.isnull().sum()"
   ]
  },
  {
   "cell_type": "code",
   "execution_count": 35,
   "metadata": {
    "execution": {
     "iopub.execute_input": "2020-10-02T07:39:14.197853Z",
     "iopub.status.busy": "2020-10-02T07:39:14.196748Z",
     "iopub.status.idle": "2020-10-02T07:39:19.029769Z",
     "shell.execute_reply": "2020-10-02T07:39:19.029113Z"
    },
    "papermill": {
     "duration": 4.913514,
     "end_time": "2020-10-02T07:39:19.029900",
     "exception": false,
     "start_time": "2020-10-02T07:39:14.116386",
     "status": "completed"
    },
    "tags": []
   },
   "outputs": [
    {
     "data": {
      "image/png": "[encoded data removed]",
      "text/plain": [
       "<Figure size 1296x576 with 7 Axes>"
      ]
     },
     "metadata": {
      "needs_background": "light"
     },
     "output_type": "display_data"
    }
   ],
   "source": [
    "plot_series_of_each_column(bitcoin_df_imputation2)"
   ]
  },
  {
   "cell_type": "markdown",
   "metadata": {
    "papermill": {
     "duration": 0.068767,
     "end_time": "2020-10-02T07:39:19.168468",
     "exception": false,
     "start_time": "2020-10-02T07:39:19.099701",
     "status": "completed"
    },
    "tags": []
   },
   "source": [
    "# So, our next task is to build a model with each of these approaches (````bitcoin_df_imputation1```` and ````bitcoin_df_imputation2````) and then choose the model with best performance!\n",
    "\n",
    "# Thank you."
   ]
  },
  {
   "cell_type": "markdown",
   "metadata": {
    "papermill": {
     "duration": 0.069413,
     "end_time": "2020-10-02T07:39:19.308067",
     "exception": false,
     "start_time": "2020-10-02T07:39:19.238654",
     "status": "completed"
    },
    "tags": []
   },
   "source": [
    "# Resampling"
   ]
  },
  {
   "cell_type": "markdown",
   "metadata": {
    "papermill": {
     "duration": 0.0689,
     "end_time": "2020-10-02T07:39:19.446172",
     "exception": false,
     "start_time": "2020-10-02T07:39:19.377272",
     "status": "completed"
    },
    "tags": []
   },
   "source": [
    "### Henceforth, variable names ending with 1 signify the usage of the first imputation approach, while those ending with a 2 signify the usage of the second imputation approach."
   ]
  },
  {
   "cell_type": "code",
   "execution_count": 36,
   "metadata": {
    "execution": {
     "iopub.execute_input": "2020-10-02T07:39:19.590245Z",
     "iopub.status.busy": "2020-10-02T07:39:19.589437Z",
     "iopub.status.idle": "2020-10-02T07:39:19.592561Z",
     "shell.execute_reply": "2020-10-02T07:39:19.593103Z"
    },
    "papermill": {
     "duration": 0.077961,
     "end_time": "2020-10-02T07:39:19.593269",
     "exception": false,
     "start_time": "2020-10-02T07:39:19.515308",
     "status": "completed"
    },
    "tags": []
   },
   "outputs": [],
   "source": [
    "# selecting the our working column for this notebook which is the 'Open' column\n",
    "open_time_series1 = bitcoin_df_imputation1['Open']\n",
    "open_time_series2 = bitcoin_df_imputation2['Open']"
   ]
  },
  {
   "cell_type": "code",
   "execution_count": 37,
   "metadata": {
    "execution": {
     "iopub.execute_input": "2020-10-02T07:39:19.741296Z",
     "iopub.status.busy": "2020-10-02T07:39:19.740441Z",
     "iopub.status.idle": "2020-10-02T07:39:20.096178Z",
     "shell.execute_reply": "2020-10-02T07:39:20.095548Z"
    },
    "papermill": {
     "duration": 0.433837,
     "end_time": "2020-10-02T07:39:20.096315",
     "exception": false,
     "start_time": "2020-10-02T07:39:19.662478",
     "status": "completed"
    },
    "tags": []
   },
   "outputs": [],
   "source": [
    "weekly_open_time_series1 = open_time_series1.resample('W').mean() # downsamples to a weekly timeframe\n",
    "weekly_open_time_series2 = open_time_series2.resample('W').mean() # downsamples to a weekly timeframe\n",
    "\n",
    "monthly_open_time_series1 = open_time_series1.resample('M').mean() # downsamples to a monthly timeframe\n",
    "monthly_open_time_series2 = open_time_series2.resample('M').mean() # downsamples to a monthly timeframe\n",
    "\n",
    "# let's confirm that there are no Nan values after downsampling.\n",
    "assert weekly_open_time_series1.isnull().sum() == 0\n",
    "assert weekly_open_time_series2.isnull().sum() == 0\n",
    "assert monthly_open_time_series1.isnull().sum() == 0\n",
    "assert monthly_open_time_series2.isnull().sum() == 0"
   ]
  },
  {
   "cell_type": "code",
   "execution_count": 38,
   "metadata": {
    "execution": {
     "iopub.execute_input": "2020-10-02T07:39:20.247286Z",
     "iopub.status.busy": "2020-10-02T07:39:20.246463Z",
     "iopub.status.idle": "2020-10-02T07:39:20.251976Z",
     "shell.execute_reply": "2020-10-02T07:39:20.252556Z"
    },
    "papermill": {
     "duration": 0.086374,
     "end_time": "2020-10-02T07:39:20.252745",
     "exception": false,
     "start_time": "2020-10-02T07:39:20.166371",
     "status": "completed"
    },
    "tags": []
   },
   "outputs": [
    {
     "name": "stdout",
     "output_type": "stream",
     "text": [
      "open_time_seies1 has been downsampled from a minute timeframe of 4572257 observations to a weekly timeframe of 456 observations\n",
      "\n",
      "open_time_seies1 has been downsampled from a minute timeframe of 4572257 observations to a monthly timeframe of 106 observations\n",
      "\n",
      "open_time_seies2 has been downsampled from a minute timeframe of 4572257 observations to a weekly timeframe of 456 observations\n",
      "\n",
      "open_time_seies2 has been downsampled from a minute timeframe of 4572257 observations to a monthly timeframe of 106 observations\n"
     ]
    }
   ],
   "source": [
    "print('open_time_seies1 has been downsampled from a minute timeframe of {}'.format(open_time_series1.shape[0]) + \\\n",
    "      ' observations to a weekly timeframe of {} observations'.format(weekly_open_time_series1.shape[0]))\n",
    "print()\n",
    "print('open_time_seies1 has been downsampled from a minute timeframe of {}'.format(open_time_series1.shape[0]) + \\\n",
    "      ' observations to a monthly timeframe of {} observations'.format(monthly_open_time_series1.shape[0]))\n",
    "print()\n",
    "print('open_time_seies2 has been downsampled from a minute timeframe of {}'.format(open_time_series1.shape[0]) + \\\n",
    "      ' observations to a weekly timeframe of {} observations'.format(weekly_open_time_series2.shape[0]))\n",
    "print()\n",
    "print('open_time_seies2 has been downsampled from a minute timeframe of {}'.format(open_time_series1.shape[0]) + \\\n",
    "      ' observations to a monthly timeframe of {} observations'.format(monthly_open_time_series2.shape[0]))"
   ]
  },
  {
   "cell_type": "markdown",
   "metadata": {
    "papermill": {
     "duration": 0.069912,
     "end_time": "2020-10-02T07:39:20.393166",
     "exception": false,
     "start_time": "2020-10-02T07:39:20.323254",
     "status": "completed"
    },
    "tags": []
   },
   "source": [
    "This makes sense because although, ````bitcoin_df_imputation1```` and ````bitcoin_df_imputation2```` have different number of observations, they still have the same span (total duration). Let's confirm that."
   ]
  },
  {
   "cell_type": "code",
   "execution_count": 39,
   "metadata": {
    "execution": {
     "iopub.execute_input": "2020-10-02T07:39:20.541079Z",
     "iopub.status.busy": "2020-10-02T07:39:20.540245Z",
     "iopub.status.idle": "2020-10-02T07:39:20.543356Z",
     "shell.execute_reply": "2020-10-02T07:39:20.544223Z"
    },
    "papermill": {
     "duration": 0.080758,
     "end_time": "2020-10-02T07:39:20.544395",
     "exception": false,
     "start_time": "2020-10-02T07:39:20.463637",
     "status": "completed"
    },
    "tags": []
   },
   "outputs": [
    {
     "name": "stdout",
     "output_type": "stream",
     "text": [
      "bitcoin_df_imputation1's number of observation is 4572257\n",
      "bitcoin_df_imputation2's number of observation is 3330541\n"
     ]
    }
   ],
   "source": [
    "print(\"bitcoin_df_imputation1's number of observation is {}\".format(bitcoin_df_imputation1.shape[0]))\n",
    "print(\"bitcoin_df_imputation2's number of observation is {}\".format(bitcoin_df_imputation2.shape[0]))"
   ]
  },
  {
   "cell_type": "code",
   "execution_count": 40,
   "metadata": {
    "execution": {
     "iopub.execute_input": "2020-10-02T07:39:20.694241Z",
     "iopub.status.busy": "2020-10-02T07:39:20.693193Z",
     "iopub.status.idle": "2020-10-02T07:39:20.696483Z",
     "shell.execute_reply": "2020-10-02T07:39:20.695885Z"
    },
    "papermill": {
     "duration": 0.080891,
     "end_time": "2020-10-02T07:39:20.696627",
     "exception": false,
     "start_time": "2020-10-02T07:39:20.615736",
     "status": "completed"
    },
    "tags": []
   },
   "outputs": [],
   "source": [
    "assert bitcoin_df_imputation1.index[-1] - bitcoin_df_imputation1.index[0] == bitcoin_df_imputation2.index[-1] - \\\n",
    "                                                                                bitcoin_df_imputation2.index[0]"
   ]
  },
  {
   "cell_type": "markdown",
   "metadata": {
    "papermill": {
     "duration": 0.070294,
     "end_time": "2020-10-02T07:39:20.838092",
     "exception": false,
     "start_time": "2020-10-02T07:39:20.767798",
     "status": "completed"
    },
    "tags": []
   },
   "source": [
    "# Smoothing\n",
    "\n",
    "### Let's check if there is need to smoothing the series. First, we will create a function that takes a dictionary of series name/series pairs and plot all the series as a 2x2 subplots in a 18x8 figure object. The function assumes that we would be plotting 4 subplots.\n"
   ]
  },
  {
   "cell_type": "code",
   "execution_count": 41,
   "metadata": {
    "execution": {
     "iopub.execute_input": "2020-10-02T07:39:20.990314Z",
     "iopub.status.busy": "2020-10-02T07:39:20.989353Z",
     "iopub.status.idle": "2020-10-02T07:39:20.992637Z",
     "shell.execute_reply": "2020-10-02T07:39:20.991989Z"
    },
    "papermill": {
     "duration": 0.08336,
     "end_time": "2020-10-02T07:39:20.992772",
     "exception": false,
     "start_time": "2020-10-02T07:39:20.909412",
     "status": "completed"
    },
    "tags": []
   },
   "outputs": [],
   "source": [
    "def plot_univariate_time_series(series):\n",
    "    fig = plt.figure(figsize=(18, 8))\n",
    "    \n",
    "    for series_label, ind in zip(series.keys(), range(1, len(series)+1)):\n",
    "        a = fig.add_subplot(2, 2, ind)\n",
    "        plt.plot(series[series_label].index, series[series_label], '--')\n",
    "        plt.grid()\n",
    "        plt.xlabel('years')\n",
    "        plt.ylabel(series_label)\n"
   ]
  },
  {
   "cell_type": "code",
   "execution_count": 42,
   "metadata": {
    "execution": {
     "iopub.execute_input": "2020-10-02T07:39:21.142041Z",
     "iopub.status.busy": "2020-10-02T07:39:21.141071Z",
     "iopub.status.idle": "2020-10-02T07:39:21.144033Z",
     "shell.execute_reply": "2020-10-02T07:39:21.143325Z"
    },
    "papermill": {
     "duration": 0.080102,
     "end_time": "2020-10-02T07:39:21.144161",
     "exception": false,
     "start_time": "2020-10-02T07:39:21.064059",
     "status": "completed"
    },
    "tags": []
   },
   "outputs": [],
   "source": [
    "# initializing a dictionary of series name/series pairs to use as an argument to our plot_univariate_time_series\n",
    "# function\n",
    "\n",
    "series = {'weekly_open1': weekly_open_time_series1, 'monthly_open1': monthly_open_time_series1, \\\n",
    "         'weekly_open2': weekly_open_time_series2, 'monthly_open2': monthly_open_time_series2}"
   ]
  },
  {
   "cell_type": "code",
   "execution_count": 43,
   "metadata": {
    "execution": {
     "iopub.execute_input": "2020-10-02T07:39:21.299406Z",
     "iopub.status.busy": "2020-10-02T07:39:21.296859Z",
     "iopub.status.idle": "2020-10-02T07:39:21.940839Z",
     "shell.execute_reply": "2020-10-02T07:39:21.940121Z"
    },
    "papermill": {
     "duration": 0.725223,
     "end_time": "2020-10-02T07:39:21.940963",
     "exception": false,
     "start_time": "2020-10-02T07:39:21.215740",
     "status": "completed"
    },
    "tags": []
   },
   "outputs": [
    {
     "data": {
      "image/png": "[encoded data removed]",
      "text/plain": [
       "<Figure size 1296x576 with 4 Axes>"
      ]
     },
     "metadata": {
      "needs_background": "light"
     },
     "output_type": "display_data"
    }
   ],
   "source": [
    "plot_univariate_time_series(series)"
   ]
  },
  {
   "cell_type": "markdown",
   "metadata": {
    "papermill": {
     "duration": 0.074318,
     "end_time": "2020-10-02T07:39:22.089647",
     "exception": false,
     "start_time": "2020-10-02T07:39:22.015329",
     "status": "completed"
    },
    "tags": []
   },
   "source": [
    "#### **The Plots above looks smooth and there maybe NO need for further smoothing as it may be too baised to further smoothen the series**"
   ]
  },
  {
   "cell_type": "code",
   "execution_count": null,
   "metadata": {
    "papermill": {
     "duration": 0.073533,
     "end_time": "2020-10-02T07:39:22.237246",
     "exception": false,
     "start_time": "2020-10-02T07:39:22.163713",
     "status": "completed"
    },
    "tags": []
   },
   "outputs": [],
   "source": []
  }
 ],
 "metadata": {
  "kernelspec": {
   "display_name": "Python 3",
   "language": "python",
   "name": "python3"
  },
  "language_info": {
   "codemirror_mode": {
    "name": "ipython",
    "version": 3
   },
   "file_extension": ".py",
   "mimetype": "text/x-python",
   "name": "python",
   "nbconvert_exporter": "python",
   "pygments_lexer": "ipython3",
   "version": "3.7.6"
  },
  "papermill": {
   "duration": 111.561292,
   "end_time": "2020-10-02T07:39:22.420744",
   "environment_variables": {},
   "exception": null,
   "input_path": "__notebook__.ipynb",
   "output_path": "__notebook__.ipynb",
   "parameters": {},
   "start_time": "2020-10-02T07:37:30.859452",
   "version": "2.1.0"
  }
 },
 "nbformat": 4,
 "nbformat_minor": 4
}
